{
 "cells": [
  {
   "cell_type": "markdown",
   "id": "d6ed588a",
   "metadata": {},
   "source": [
    "### Dummy Inputs\n",
    "N = 5\n",
    "\n",
    "arr = [(10,2), (5,3), (15,5), (7,7), (6,1)]<br>\n",
    "W = 10"
   ]
  },
  {
   "cell_type": "code",
   "execution_count": 3,
   "id": "e67342e5",
   "metadata": {},
   "outputs": [
    {
     "name": "stdout",
     "output_type": "stream",
     "text": [
      "Enter how many elements to add: 5\n",
      "----------------------------------\n",
      "Enter Profit: 10\n",
      "Enter Weight: 2\n",
      "----------------------------------\n",
      "Enter Profit: 5\n",
      "Enter Weight: 3\n",
      "----------------------------------\n",
      "Enter Profit: 15\n",
      "Enter Weight: 5\n",
      "----------------------------------\n",
      "Enter Profit: 7\n",
      "Enter Weight: 7\n",
      "----------------------------------\n",
      "Enter Profit: 6\n",
      "Enter Weight: 1\n",
      "----------------------------------\n",
      "Enter Knapsack Weight (W): 10\n",
      "[[5, 3], [6, 1], [7, 7], [10, 2], [15, 5]]\n",
      "\n",
      "Final Profit is: 17.0\n",
      "For W=10\n"
     ]
    }
   ],
   "source": [
    "# Array Format = [Profit, Weight]\n",
    "\n",
    "def fractionalKnapsack(arr, weight):\n",
    "    initial_weight = weight\n",
    "    profit = 0\n",
    "    \n",
    "    arr = sorted(arr, reverse=False)\n",
    "    print(arr)\n",
    "    \n",
    "    for i in arr:\n",
    "        if i[1] < weight:\n",
    "            profit += i[0]\n",
    "            weight -= i[1]\n",
    "            #print(\"\\nCurrent Profit: {}\".format(profit))\n",
    "            #print(\"Current Weight: {}\".format(weight))\n",
    "            \n",
    "        else:\n",
    "            fraction = weight/i[1]\n",
    "            #print(\"Fraction is: {}\".format(fraction))\n",
    "            #print(\"--Profit is: {}\".format(profit))\n",
    "            profit = fraction * i[0] + profit\n",
    "            weight = 0\n",
    "            #print(\"Remaining weight is: {}\".format(weight))\n",
    "            \n",
    "    print(\"\\nFinal Profit is: {}\\nFor W={}\".format(profit, initial_weight))\n",
    "        \n",
    "element_count = int(input(\"Enter how many elements to add: \"))\n",
    "profit_weight_arr = []\n",
    "\n",
    "for i in range(element_count):\n",
    "    print(\"----------------------------------\")\n",
    "    get_profit = int(input(\"Enter Profit: \"))\n",
    "    get_weight = int(input(\"Enter Weight: \"))\n",
    "    \n",
    "    profit_weight_arr.append([get_profit,get_weight])\n",
    "    \n",
    "print(\"----------------------------------\")\n",
    "knapsack_weight = int(input(\"Enter Knapsack Weight (W): \"))\n",
    "fractionalKnapsack(profit_weight_arr, knapsack_weight)"
   ]
  },
  {
   "cell_type": "markdown",
   "id": "1d807e65",
   "metadata": {},
   "source": [
    "## Prefect Approach"
   ]
  },
  {
   "cell_type": "code",
   "execution_count": 4,
   "id": "ab29d4b5",
   "metadata": {},
   "outputs": [
    {
     "name": "stdout",
     "output_type": "stream",
     "text": [
      "Maximum value: 34.333333333333336\n",
      "Selected items:\n",
      "  (1, 6): Fraction = 1.00\n",
      "  (2, 10): Fraction = 1.00\n",
      "  (5, 15): Fraction = 1.00\n",
      "  (3, 5): Fraction = 0.67\n"
     ]
    }
   ],
   "source": [
    "def fractional_knapsack(items, capacity):\n",
    "    # Calculate the value-to-weight ratio for each item\n",
    "    item_value_ratio = [(item[1] / item[0], item) for item in items]\n",
    "    \n",
    "    # Sort items by value-to-weight ratio in descending order\n",
    "    item_value_ratio.sort(reverse=True)\n",
    "    \n",
    "    total_value = 0  # Total value of selected items\n",
    "    knapsack = []    # Items selected for the knapsack\n",
    "    \n",
    "    for value_per_weight, item in item_value_ratio:\n",
    "        if capacity >= item[0]:  # If the item can fit entirely\n",
    "            knapsack.append((item, 1))  # Add the whole item\n",
    "            total_value += item[1]\n",
    "            capacity -= item[0]\n",
    "        else:  # If the item can only fit partially\n",
    "            fraction = capacity / item[0]\n",
    "            knapsack.append((item, fraction))  # Add a fraction of the item\n",
    "            total_value += item[1] * fraction\n",
    "            break  # The knapsack is now full\n",
    "    \n",
    "    return total_value, knapsack\n",
    "\n",
    "# Example usage:\n",
    "items = [(2, 10), (3, 5), (5, 15), (7, 7), (1, 6)]\n",
    "capacity = 10\n",
    "max_value, selected_items = fractional_knapsack(items, capacity)\n",
    "\n",
    "print(f\"Maximum value: {max_value}\")\n",
    "print(\"Selected items:\")\n",
    "for item, fraction in selected_items:\n",
    "    print(f\"  {item}: Fraction = {fraction:.2f}\")\n"
   ]
  }
 ],
 "metadata": {
  "kernelspec": {
   "display_name": "Python 3 (ipykernel)",
   "language": "python",
   "name": "python3"
  },
  "language_info": {
   "codemirror_mode": {
    "name": "ipython",
    "version": 3
   },
   "file_extension": ".py",
   "mimetype": "text/x-python",
   "name": "python",
   "nbconvert_exporter": "python",
   "pygments_lexer": "ipython3",
   "version": "3.10.9"
  }
 },
 "nbformat": 4,
 "nbformat_minor": 5
}
