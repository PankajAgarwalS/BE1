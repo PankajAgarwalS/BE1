{
 "cells": [
  {
   "cell_type": "markdown",
   "id": "ff5e744d",
   "metadata": {
    "papermill": {
     "duration": 0.011162,
     "end_time": "2023-06-20T17:38:07.085639",
     "exception": false,
     "start_time": "2023-06-20T17:38:07.074477",
     "status": "completed"
    },
    "tags": []
   },
   "source": [
    "## Importing Libraries"
   ]
  },
  {
   "cell_type": "code",
   "execution_count": 1,
   "id": "e800014e",
   "metadata": {
    "execution": {
     "iopub.execute_input": "2023-06-20T17:38:07.129479Z",
     "iopub.status.busy": "2023-06-20T17:38:07.128962Z",
     "iopub.status.idle": "2023-06-20T17:38:21.975226Z",
     "shell.execute_reply": "2023-06-20T17:38:21.973597Z"
    },
    "papermill": {
     "duration": 14.86172,
     "end_time": "2023-06-20T17:38:21.978524",
     "exception": false,
     "start_time": "2023-06-20T17:38:07.116804",
     "status": "completed"
    },
    "tags": []
   },
   "outputs": [],
   "source": [
    "import pandas as pd #Data Manipulation and Analysis\n",
    "import matplotlib.pyplot as plt #plotting\n",
    "# magic command\n",
    "%matplotlib widget  \n",
    "import numpy as np #for working with arrays \n",
    "import seaborn as sns #interactive data visulaization base on matplotlib\n",
    "import warnings\n",
    "warnings.filterwarnings('ignore')\n",
    "import re\n",
    "from time import time #Timing our operations\n",
    "import collections \n",
    "from collections import defaultdict\n",
    "import spacy #spaCy is a free, open-source library for NLP in Python.\n",
    "from gensim.models import Word2Vec #NLP functionality \n",
    "import logging\n",
    "logging.basicConfig(format = \"%(levelname)s - %(asctime)s: %(message)s\",datefmt = '%H:%M:%S', level=logging.INFO)\n",
    "from sklearn.manifold import TSNE #tool to visualize high dimensional data\n",
    "from numpy import dot #dotproduct\n",
    "from numpy.linalg import norm #linear algebra ...matrix norms"
   ]
  },
  {
   "cell_type": "markdown",
   "id": "f385c7e3",
   "metadata": {
    "papermill": {
     "duration": 0.009536,
     "end_time": "2023-06-20T17:38:21.998236",
     "exception": false,
     "start_time": "2023-06-20T17:38:21.988700",
     "status": "completed"
    },
    "tags": []
   },
   "source": [
    "# Dataset Overview\n",
    "This dataset contains different attributes like Make, Model, Year, Engine Fuel Type etc. for different car models. The attributes containing text will be used to predict the similarity using NLP between the different car models. To compare the similarity word embeddings using Gensim is used."
   ]
  },
  {
   "cell_type": "code",
   "execution_count": 2,
   "id": "8a38d820",
   "metadata": {
    "execution": {
     "iopub.execute_input": "2023-06-20T17:38:22.021480Z",
     "iopub.status.busy": "2023-06-20T17:38:22.020684Z",
     "iopub.status.idle": "2023-06-20T17:38:22.138692Z",
     "shell.execute_reply": "2023-06-20T17:38:22.136952Z"
    },
    "papermill": {
     "duration": 0.133476,
     "end_time": "2023-06-20T17:38:22.141661",
     "exception": false,
     "start_time": "2023-06-20T17:38:22.008185",
     "status": "completed"
    },
    "tags": []
   },
   "outputs": [
    {
     "data": {
      "text/html": [
       "<div>\n",
       "<style scoped>\n",
       "    .dataframe tbody tr th:only-of-type {\n",
       "        vertical-align: middle;\n",
       "    }\n",
       "\n",
       "    .dataframe tbody tr th {\n",
       "        vertical-align: top;\n",
       "    }\n",
       "\n",
       "    .dataframe thead th {\n",
       "        text-align: right;\n",
       "    }\n",
       "</style>\n",
       "<table border=\"1\" class=\"dataframe\">\n",
       "  <thead>\n",
       "    <tr style=\"text-align: right;\">\n",
       "      <th></th>\n",
       "      <th>Make</th>\n",
       "      <th>Model</th>\n",
       "      <th>Year</th>\n",
       "      <th>Engine Fuel Type</th>\n",
       "      <th>Engine HP</th>\n",
       "      <th>Engine Cylinders</th>\n",
       "      <th>Transmission Type</th>\n",
       "      <th>Driven_Wheels</th>\n",
       "      <th>Number of Doors</th>\n",
       "      <th>Market Category</th>\n",
       "      <th>Vehicle Size</th>\n",
       "      <th>Vehicle Style</th>\n",
       "      <th>highway MPG</th>\n",
       "      <th>city mpg</th>\n",
       "      <th>Popularity</th>\n",
       "      <th>MSRP</th>\n",
       "    </tr>\n",
       "  </thead>\n",
       "  <tbody>\n",
       "    <tr>\n",
       "      <th>0</th>\n",
       "      <td>BMW</td>\n",
       "      <td>1 Series M</td>\n",
       "      <td>2011</td>\n",
       "      <td>premium unleaded (required)</td>\n",
       "      <td>335.0</td>\n",
       "      <td>6.0</td>\n",
       "      <td>MANUAL</td>\n",
       "      <td>rear wheel drive</td>\n",
       "      <td>2.0</td>\n",
       "      <td>Factory Tuner,Luxury,High-Performance</td>\n",
       "      <td>Compact</td>\n",
       "      <td>Coupe</td>\n",
       "      <td>26</td>\n",
       "      <td>19</td>\n",
       "      <td>3916</td>\n",
       "      <td>46135</td>\n",
       "    </tr>\n",
       "    <tr>\n",
       "      <th>1</th>\n",
       "      <td>BMW</td>\n",
       "      <td>1 Series</td>\n",
       "      <td>2011</td>\n",
       "      <td>premium unleaded (required)</td>\n",
       "      <td>300.0</td>\n",
       "      <td>6.0</td>\n",
       "      <td>MANUAL</td>\n",
       "      <td>rear wheel drive</td>\n",
       "      <td>2.0</td>\n",
       "      <td>Luxury,Performance</td>\n",
       "      <td>Compact</td>\n",
       "      <td>Convertible</td>\n",
       "      <td>28</td>\n",
       "      <td>19</td>\n",
       "      <td>3916</td>\n",
       "      <td>40650</td>\n",
       "    </tr>\n",
       "    <tr>\n",
       "      <th>2</th>\n",
       "      <td>BMW</td>\n",
       "      <td>1 Series</td>\n",
       "      <td>2011</td>\n",
       "      <td>premium unleaded (required)</td>\n",
       "      <td>300.0</td>\n",
       "      <td>6.0</td>\n",
       "      <td>MANUAL</td>\n",
       "      <td>rear wheel drive</td>\n",
       "      <td>2.0</td>\n",
       "      <td>Luxury,High-Performance</td>\n",
       "      <td>Compact</td>\n",
       "      <td>Coupe</td>\n",
       "      <td>28</td>\n",
       "      <td>20</td>\n",
       "      <td>3916</td>\n",
       "      <td>36350</td>\n",
       "    </tr>\n",
       "    <tr>\n",
       "      <th>3</th>\n",
       "      <td>BMW</td>\n",
       "      <td>1 Series</td>\n",
       "      <td>2011</td>\n",
       "      <td>premium unleaded (required)</td>\n",
       "      <td>230.0</td>\n",
       "      <td>6.0</td>\n",
       "      <td>MANUAL</td>\n",
       "      <td>rear wheel drive</td>\n",
       "      <td>2.0</td>\n",
       "      <td>Luxury,Performance</td>\n",
       "      <td>Compact</td>\n",
       "      <td>Coupe</td>\n",
       "      <td>28</td>\n",
       "      <td>18</td>\n",
       "      <td>3916</td>\n",
       "      <td>29450</td>\n",
       "    </tr>\n",
       "    <tr>\n",
       "      <th>4</th>\n",
       "      <td>BMW</td>\n",
       "      <td>1 Series</td>\n",
       "      <td>2011</td>\n",
       "      <td>premium unleaded (required)</td>\n",
       "      <td>230.0</td>\n",
       "      <td>6.0</td>\n",
       "      <td>MANUAL</td>\n",
       "      <td>rear wheel drive</td>\n",
       "      <td>2.0</td>\n",
       "      <td>Luxury</td>\n",
       "      <td>Compact</td>\n",
       "      <td>Convertible</td>\n",
       "      <td>28</td>\n",
       "      <td>18</td>\n",
       "      <td>3916</td>\n",
       "      <td>34500</td>\n",
       "    </tr>\n",
       "  </tbody>\n",
       "</table>\n",
       "</div>"
      ],
      "text/plain": [
       "  Make       Model  Year             Engine Fuel Type  Engine HP  \\\n",
       "0  BMW  1 Series M  2011  premium unleaded (required)      335.0   \n",
       "1  BMW    1 Series  2011  premium unleaded (required)      300.0   \n",
       "2  BMW    1 Series  2011  premium unleaded (required)      300.0   \n",
       "3  BMW    1 Series  2011  premium unleaded (required)      230.0   \n",
       "4  BMW    1 Series  2011  premium unleaded (required)      230.0   \n",
       "\n",
       "   Engine Cylinders Transmission Type     Driven_Wheels  Number of Doors  \\\n",
       "0               6.0            MANUAL  rear wheel drive              2.0   \n",
       "1               6.0            MANUAL  rear wheel drive              2.0   \n",
       "2               6.0            MANUAL  rear wheel drive              2.0   \n",
       "3               6.0            MANUAL  rear wheel drive              2.0   \n",
       "4               6.0            MANUAL  rear wheel drive              2.0   \n",
       "\n",
       "                         Market Category Vehicle Size Vehicle Style  \\\n",
       "0  Factory Tuner,Luxury,High-Performance      Compact         Coupe   \n",
       "1                     Luxury,Performance      Compact   Convertible   \n",
       "2                Luxury,High-Performance      Compact         Coupe   \n",
       "3                     Luxury,Performance      Compact         Coupe   \n",
       "4                                 Luxury      Compact   Convertible   \n",
       "\n",
       "   highway MPG  city mpg  Popularity   MSRP  \n",
       "0           26        19        3916  46135  \n",
       "1           28        19        3916  40650  \n",
       "2           28        20        3916  36350  \n",
       "3           28        18        3916  29450  \n",
       "4           28        18        3916  34500  "
      ]
     },
     "execution_count": 2,
     "metadata": {},
     "output_type": "execute_result"
    }
   ],
   "source": [
    "#Data Set Import \n",
    "df = pd.read_csv('data.csv')\n",
    "df.head()"
   ]
  },
  {
   "cell_type": "code",
   "execution_count": 3,
   "id": "5b603f85",
   "metadata": {
    "execution": {
     "iopub.execute_input": "2023-06-20T17:38:22.165460Z",
     "iopub.status.busy": "2023-06-20T17:38:22.164960Z",
     "iopub.status.idle": "2023-06-20T17:38:22.172078Z",
     "shell.execute_reply": "2023-06-20T17:38:22.170641Z"
    },
    "papermill": {
     "duration": 0.022428,
     "end_time": "2023-06-20T17:38:22.175350",
     "exception": false,
     "start_time": "2023-06-20T17:38:22.152922",
     "status": "completed"
    },
    "tags": []
   },
   "outputs": [
    {
     "name": "stdout",
     "output_type": "stream",
     "text": [
      "Shape of initial dataset: (11914, 16)\n"
     ]
    }
   ],
   "source": [
    "print('Shape of initial dataset:', df.shape)"
   ]
  },
  {
   "cell_type": "markdown",
   "id": "d147e3ed",
   "metadata": {
    "papermill": {
     "duration": 0.010075,
     "end_time": "2023-06-20T17:38:22.195925",
     "exception": false,
     "start_time": "2023-06-20T17:38:22.185850",
     "status": "completed"
    },
    "tags": []
   },
   "source": [
    "## Dataset Preprocessing"
   ]
  },
  {
   "cell_type": "markdown",
   "id": "6e28b071",
   "metadata": {
    "papermill": {
     "duration": 0.010162,
     "end_time": "2023-06-20T17:38:22.216529",
     "exception": false,
     "start_time": "2023-06-20T17:38:22.206367",
     "status": "completed"
    },
    "tags": []
   },
   "source": [
    "Gensim uses list of lists for its working. For this purpose the make and model of the car are combined into one and then other features will also be clubbed in respective list. Once, list for all individual cars are completed, all these lists will be combined into one single list and further processing is done."
   ]
  },
  {
   "cell_type": "code",
   "execution_count": 4,
   "id": "438267fb",
   "metadata": {
    "execution": {
     "iopub.execute_input": "2023-06-20T17:38:22.240006Z",
     "iopub.status.busy": "2023-06-20T17:38:22.239540Z",
     "iopub.status.idle": "2023-06-20T17:38:22.255800Z",
     "shell.execute_reply": "2023-06-20T17:38:22.254390Z"
    },
    "papermill": {
     "duration": 0.031834,
     "end_time": "2023-06-20T17:38:22.258755",
     "exception": false,
     "start_time": "2023-06-20T17:38:22.226921",
     "status": "completed"
    },
    "tags": []
   },
   "outputs": [],
   "source": [
    "#New column for combined make and model is created\n",
    "df['Maker_Model'] = df['Make']+\" \"+df['Model']"
   ]
  },
  {
   "cell_type": "code",
   "execution_count": 5,
   "id": "fcf83e18",
   "metadata": {
    "execution": {
     "iopub.execute_input": "2023-06-20T17:38:22.282716Z",
     "iopub.status.busy": "2023-06-20T17:38:22.282012Z",
     "iopub.status.idle": "2023-06-20T17:38:22.312399Z",
     "shell.execute_reply": "2023-06-20T17:38:22.310228Z"
    },
    "papermill": {
     "duration": 0.045456,
     "end_time": "2023-06-20T17:38:22.315277",
     "exception": false,
     "start_time": "2023-06-20T17:38:22.269821",
     "status": "completed"
    },
    "tags": []
   },
   "outputs": [
    {
     "name": "stdout",
     "output_type": "stream",
     "text": [
      "(11914, 17)\n"
     ]
    },
    {
     "data": {
      "text/html": [
       "<div>\n",
       "<style scoped>\n",
       "    .dataframe tbody tr th:only-of-type {\n",
       "        vertical-align: middle;\n",
       "    }\n",
       "\n",
       "    .dataframe tbody tr th {\n",
       "        vertical-align: top;\n",
       "    }\n",
       "\n",
       "    .dataframe thead th {\n",
       "        text-align: right;\n",
       "    }\n",
       "</style>\n",
       "<table border=\"1\" class=\"dataframe\">\n",
       "  <thead>\n",
       "    <tr style=\"text-align: right;\">\n",
       "      <th></th>\n",
       "      <th>Make</th>\n",
       "      <th>Model</th>\n",
       "      <th>Year</th>\n",
       "      <th>Engine Fuel Type</th>\n",
       "      <th>Engine HP</th>\n",
       "      <th>Engine Cylinders</th>\n",
       "      <th>Transmission Type</th>\n",
       "      <th>Driven_Wheels</th>\n",
       "      <th>Number of Doors</th>\n",
       "      <th>Market Category</th>\n",
       "      <th>Vehicle Size</th>\n",
       "      <th>Vehicle Style</th>\n",
       "      <th>highway MPG</th>\n",
       "      <th>city mpg</th>\n",
       "      <th>Popularity</th>\n",
       "      <th>MSRP</th>\n",
       "      <th>Maker_Model</th>\n",
       "    </tr>\n",
       "  </thead>\n",
       "  <tbody>\n",
       "    <tr>\n",
       "      <th>0</th>\n",
       "      <td>BMW</td>\n",
       "      <td>1 Series M</td>\n",
       "      <td>2011</td>\n",
       "      <td>premium unleaded (required)</td>\n",
       "      <td>335.0</td>\n",
       "      <td>6.0</td>\n",
       "      <td>MANUAL</td>\n",
       "      <td>rear wheel drive</td>\n",
       "      <td>2.0</td>\n",
       "      <td>Factory Tuner,Luxury,High-Performance</td>\n",
       "      <td>Compact</td>\n",
       "      <td>Coupe</td>\n",
       "      <td>26</td>\n",
       "      <td>19</td>\n",
       "      <td>3916</td>\n",
       "      <td>46135</td>\n",
       "      <td>BMW 1 Series M</td>\n",
       "    </tr>\n",
       "    <tr>\n",
       "      <th>1</th>\n",
       "      <td>BMW</td>\n",
       "      <td>1 Series</td>\n",
       "      <td>2011</td>\n",
       "      <td>premium unleaded (required)</td>\n",
       "      <td>300.0</td>\n",
       "      <td>6.0</td>\n",
       "      <td>MANUAL</td>\n",
       "      <td>rear wheel drive</td>\n",
       "      <td>2.0</td>\n",
       "      <td>Luxury,Performance</td>\n",
       "      <td>Compact</td>\n",
       "      <td>Convertible</td>\n",
       "      <td>28</td>\n",
       "      <td>19</td>\n",
       "      <td>3916</td>\n",
       "      <td>40650</td>\n",
       "      <td>BMW 1 Series</td>\n",
       "    </tr>\n",
       "    <tr>\n",
       "      <th>2</th>\n",
       "      <td>BMW</td>\n",
       "      <td>1 Series</td>\n",
       "      <td>2011</td>\n",
       "      <td>premium unleaded (required)</td>\n",
       "      <td>300.0</td>\n",
       "      <td>6.0</td>\n",
       "      <td>MANUAL</td>\n",
       "      <td>rear wheel drive</td>\n",
       "      <td>2.0</td>\n",
       "      <td>Luxury,High-Performance</td>\n",
       "      <td>Compact</td>\n",
       "      <td>Coupe</td>\n",
       "      <td>28</td>\n",
       "      <td>20</td>\n",
       "      <td>3916</td>\n",
       "      <td>36350</td>\n",
       "      <td>BMW 1 Series</td>\n",
       "    </tr>\n",
       "    <tr>\n",
       "      <th>3</th>\n",
       "      <td>BMW</td>\n",
       "      <td>1 Series</td>\n",
       "      <td>2011</td>\n",
       "      <td>premium unleaded (required)</td>\n",
       "      <td>230.0</td>\n",
       "      <td>6.0</td>\n",
       "      <td>MANUAL</td>\n",
       "      <td>rear wheel drive</td>\n",
       "      <td>2.0</td>\n",
       "      <td>Luxury,Performance</td>\n",
       "      <td>Compact</td>\n",
       "      <td>Coupe</td>\n",
       "      <td>28</td>\n",
       "      <td>18</td>\n",
       "      <td>3916</td>\n",
       "      <td>29450</td>\n",
       "      <td>BMW 1 Series</td>\n",
       "    </tr>\n",
       "    <tr>\n",
       "      <th>4</th>\n",
       "      <td>BMW</td>\n",
       "      <td>1 Series</td>\n",
       "      <td>2011</td>\n",
       "      <td>premium unleaded (required)</td>\n",
       "      <td>230.0</td>\n",
       "      <td>6.0</td>\n",
       "      <td>MANUAL</td>\n",
       "      <td>rear wheel drive</td>\n",
       "      <td>2.0</td>\n",
       "      <td>Luxury</td>\n",
       "      <td>Compact</td>\n",
       "      <td>Convertible</td>\n",
       "      <td>28</td>\n",
       "      <td>18</td>\n",
       "      <td>3916</td>\n",
       "      <td>34500</td>\n",
       "      <td>BMW 1 Series</td>\n",
       "    </tr>\n",
       "  </tbody>\n",
       "</table>\n",
       "</div>"
      ],
      "text/plain": [
       "  Make       Model  Year             Engine Fuel Type  Engine HP  \\\n",
       "0  BMW  1 Series M  2011  premium unleaded (required)      335.0   \n",
       "1  BMW    1 Series  2011  premium unleaded (required)      300.0   \n",
       "2  BMW    1 Series  2011  premium unleaded (required)      300.0   \n",
       "3  BMW    1 Series  2011  premium unleaded (required)      230.0   \n",
       "4  BMW    1 Series  2011  premium unleaded (required)      230.0   \n",
       "\n",
       "   Engine Cylinders Transmission Type     Driven_Wheels  Number of Doors  \\\n",
       "0               6.0            MANUAL  rear wheel drive              2.0   \n",
       "1               6.0            MANUAL  rear wheel drive              2.0   \n",
       "2               6.0            MANUAL  rear wheel drive              2.0   \n",
       "3               6.0            MANUAL  rear wheel drive              2.0   \n",
       "4               6.0            MANUAL  rear wheel drive              2.0   \n",
       "\n",
       "                         Market Category Vehicle Size Vehicle Style  \\\n",
       "0  Factory Tuner,Luxury,High-Performance      Compact         Coupe   \n",
       "1                     Luxury,Performance      Compact   Convertible   \n",
       "2                Luxury,High-Performance      Compact         Coupe   \n",
       "3                     Luxury,Performance      Compact         Coupe   \n",
       "4                                 Luxury      Compact   Convertible   \n",
       "\n",
       "   highway MPG  city mpg  Popularity   MSRP     Maker_Model  \n",
       "0           26        19        3916  46135  BMW 1 Series M  \n",
       "1           28        19        3916  40650    BMW 1 Series  \n",
       "2           28        20        3916  36350    BMW 1 Series  \n",
       "3           28        18        3916  29450    BMW 1 Series  \n",
       "4           28        18        3916  34500    BMW 1 Series  "
      ]
     },
     "execution_count": 5,
     "metadata": {},
     "output_type": "execute_result"
    }
   ],
   "source": [
    "print(df.shape)\n",
    "df.head()"
   ]
  },
  {
   "cell_type": "code",
   "execution_count": 6,
   "id": "a2d8457b",
   "metadata": {
    "execution": {
     "iopub.execute_input": "2023-06-20T17:38:22.341909Z",
     "iopub.status.busy": "2023-06-20T17:38:22.341452Z",
     "iopub.status.idle": "2023-06-20T17:38:22.369758Z",
     "shell.execute_reply": "2023-06-20T17:38:22.368178Z"
    },
    "papermill": {
     "duration": 0.045678,
     "end_time": "2023-06-20T17:38:22.372974",
     "exception": false,
     "start_time": "2023-06-20T17:38:22.327296",
     "status": "completed"
    },
    "tags": []
   },
   "outputs": [
    {
     "name": "stdout",
     "output_type": "stream",
     "text": [
      "(11914, 7)\n"
     ]
    },
    {
     "data": {
      "text/html": [
       "<div>\n",
       "<style scoped>\n",
       "    .dataframe tbody tr th:only-of-type {\n",
       "        vertical-align: middle;\n",
       "    }\n",
       "\n",
       "    .dataframe tbody tr th {\n",
       "        vertical-align: top;\n",
       "    }\n",
       "\n",
       "    .dataframe thead th {\n",
       "        text-align: right;\n",
       "    }\n",
       "</style>\n",
       "<table border=\"1\" class=\"dataframe\">\n",
       "  <thead>\n",
       "    <tr style=\"text-align: right;\">\n",
       "      <th></th>\n",
       "      <th>Engine Fuel Type</th>\n",
       "      <th>Transmission Type</th>\n",
       "      <th>Driven_Wheels</th>\n",
       "      <th>Market Category</th>\n",
       "      <th>Vehicle Size</th>\n",
       "      <th>Vehicle Style</th>\n",
       "      <th>Maker_Model</th>\n",
       "    </tr>\n",
       "  </thead>\n",
       "  <tbody>\n",
       "    <tr>\n",
       "      <th>0</th>\n",
       "      <td>premium unleaded (required)</td>\n",
       "      <td>MANUAL</td>\n",
       "      <td>rear wheel drive</td>\n",
       "      <td>Factory Tuner,Luxury,High-Performance</td>\n",
       "      <td>Compact</td>\n",
       "      <td>Coupe</td>\n",
       "      <td>BMW 1 Series M</td>\n",
       "    </tr>\n",
       "    <tr>\n",
       "      <th>1</th>\n",
       "      <td>premium unleaded (required)</td>\n",
       "      <td>MANUAL</td>\n",
       "      <td>rear wheel drive</td>\n",
       "      <td>Luxury,Performance</td>\n",
       "      <td>Compact</td>\n",
       "      <td>Convertible</td>\n",
       "      <td>BMW 1 Series</td>\n",
       "    </tr>\n",
       "    <tr>\n",
       "      <th>2</th>\n",
       "      <td>premium unleaded (required)</td>\n",
       "      <td>MANUAL</td>\n",
       "      <td>rear wheel drive</td>\n",
       "      <td>Luxury,High-Performance</td>\n",
       "      <td>Compact</td>\n",
       "      <td>Coupe</td>\n",
       "      <td>BMW 1 Series</td>\n",
       "    </tr>\n",
       "    <tr>\n",
       "      <th>3</th>\n",
       "      <td>premium unleaded (required)</td>\n",
       "      <td>MANUAL</td>\n",
       "      <td>rear wheel drive</td>\n",
       "      <td>Luxury,Performance</td>\n",
       "      <td>Compact</td>\n",
       "      <td>Coupe</td>\n",
       "      <td>BMW 1 Series</td>\n",
       "    </tr>\n",
       "    <tr>\n",
       "      <th>4</th>\n",
       "      <td>premium unleaded (required)</td>\n",
       "      <td>MANUAL</td>\n",
       "      <td>rear wheel drive</td>\n",
       "      <td>Luxury</td>\n",
       "      <td>Compact</td>\n",
       "      <td>Convertible</td>\n",
       "      <td>BMW 1 Series</td>\n",
       "    </tr>\n",
       "  </tbody>\n",
       "</table>\n",
       "</div>"
      ],
      "text/plain": [
       "              Engine Fuel Type Transmission Type     Driven_Wheels  \\\n",
       "0  premium unleaded (required)            MANUAL  rear wheel drive   \n",
       "1  premium unleaded (required)            MANUAL  rear wheel drive   \n",
       "2  premium unleaded (required)            MANUAL  rear wheel drive   \n",
       "3  premium unleaded (required)            MANUAL  rear wheel drive   \n",
       "4  premium unleaded (required)            MANUAL  rear wheel drive   \n",
       "\n",
       "                         Market Category Vehicle Size Vehicle Style  \\\n",
       "0  Factory Tuner,Luxury,High-Performance      Compact         Coupe   \n",
       "1                     Luxury,Performance      Compact   Convertible   \n",
       "2                Luxury,High-Performance      Compact         Coupe   \n",
       "3                     Luxury,Performance      Compact         Coupe   \n",
       "4                                 Luxury      Compact   Convertible   \n",
       "\n",
       "      Maker_Model  \n",
       "0  BMW 1 Series M  \n",
       "1    BMW 1 Series  \n",
       "2    BMW 1 Series  \n",
       "3    BMW 1 Series  \n",
       "4    BMW 1 Series  "
      ]
     },
     "execution_count": 6,
     "metadata": {},
     "output_type": "execute_result"
    }
   ],
   "source": [
    "#All the columns containing text are chosen and put in a new dataframe df1\n",
    "df1 = df[['Engine Fuel Type','Transmission Type','Driven_Wheels','Market Category','Vehicle Size','Vehicle Style', 'Maker_Model']]\n",
    "print(df1.shape)\n",
    "df1.head()"
   ]
  },
  {
   "cell_type": "code",
   "execution_count": 7,
   "id": "670a77bb",
   "metadata": {
    "execution": {
     "iopub.execute_input": "2023-06-20T17:38:22.399286Z",
     "iopub.status.busy": "2023-06-20T17:38:22.398848Z",
     "iopub.status.idle": "2023-06-20T17:38:23.618269Z",
     "shell.execute_reply": "2023-06-20T17:38:23.616920Z"
    },
    "papermill": {
     "duration": 1.236541,
     "end_time": "2023-06-20T17:38:23.621088",
     "exception": false,
     "start_time": "2023-06-20T17:38:22.384547",
     "status": "completed"
    },
    "tags": []
   },
   "outputs": [
    {
     "name": "stdout",
     "output_type": "stream",
     "text": [
      "(11914,)\n"
     ]
    },
    {
     "data": {
      "text/plain": [
       "0    premium unleaded (required),MANUAL,rear wheel ...\n",
       "1    premium unleaded (required),MANUAL,rear wheel ...\n",
       "2    premium unleaded (required),MANUAL,rear wheel ...\n",
       "3    premium unleaded (required),MANUAL,rear wheel ...\n",
       "4    premium unleaded (required),MANUAL,rear wheel ...\n",
       "dtype: object"
      ]
     },
     "execution_count": 7,
     "metadata": {},
     "output_type": "execute_result"
    }
   ],
   "source": [
    "#All the columns combined into one column in df2 dataframe\n",
    "df2 = df1.apply(lambda x: ','.join(x.astype(str)),axis = 1)\n",
    "print(df2.shape)\n",
    "df2.head()"
   ]
  },
  {
   "cell_type": "code",
   "execution_count": 8,
   "id": "6271f87d",
   "metadata": {
    "execution": {
     "iopub.execute_input": "2023-06-20T17:38:23.647073Z",
     "iopub.status.busy": "2023-06-20T17:38:23.646614Z",
     "iopub.status.idle": "2023-06-20T17:38:23.659318Z",
     "shell.execute_reply": "2023-06-20T17:38:23.658003Z"
    },
    "papermill": {
     "duration": 0.029474,
     "end_time": "2023-06-20T17:38:23.662274",
     "exception": false,
     "start_time": "2023-06-20T17:38:23.632800",
     "status": "completed"
    },
    "tags": []
   },
   "outputs": [
    {
     "data": {
      "text/html": [
       "<div>\n",
       "<style scoped>\n",
       "    .dataframe tbody tr th:only-of-type {\n",
       "        vertical-align: middle;\n",
       "    }\n",
       "\n",
       "    .dataframe tbody tr th {\n",
       "        vertical-align: top;\n",
       "    }\n",
       "\n",
       "    .dataframe thead th {\n",
       "        text-align: right;\n",
       "    }\n",
       "</style>\n",
       "<table border=\"1\" class=\"dataframe\">\n",
       "  <thead>\n",
       "    <tr style=\"text-align: right;\">\n",
       "      <th></th>\n",
       "      <th>clean</th>\n",
       "    </tr>\n",
       "  </thead>\n",
       "  <tbody>\n",
       "    <tr>\n",
       "      <th>0</th>\n",
       "      <td>premium unleaded (required),MANUAL,rear wheel ...</td>\n",
       "    </tr>\n",
       "    <tr>\n",
       "      <th>1</th>\n",
       "      <td>premium unleaded (required),MANUAL,rear wheel ...</td>\n",
       "    </tr>\n",
       "    <tr>\n",
       "      <th>2</th>\n",
       "      <td>premium unleaded (required),MANUAL,rear wheel ...</td>\n",
       "    </tr>\n",
       "    <tr>\n",
       "      <th>3</th>\n",
       "      <td>premium unleaded (required),MANUAL,rear wheel ...</td>\n",
       "    </tr>\n",
       "    <tr>\n",
       "      <th>4</th>\n",
       "      <td>premium unleaded (required),MANUAL,rear wheel ...</td>\n",
       "    </tr>\n",
       "  </tbody>\n",
       "</table>\n",
       "</div>"
      ],
      "text/plain": [
       "                                               clean\n",
       "0  premium unleaded (required),MANUAL,rear wheel ...\n",
       "1  premium unleaded (required),MANUAL,rear wheel ...\n",
       "2  premium unleaded (required),MANUAL,rear wheel ...\n",
       "3  premium unleaded (required),MANUAL,rear wheel ...\n",
       "4  premium unleaded (required),MANUAL,rear wheel ..."
      ]
     },
     "execution_count": 8,
     "metadata": {},
     "output_type": "execute_result"
    }
   ],
   "source": [
    "#a new pandas dataframe is created of name df_clean containing column clean\n",
    "df_clean = pd.DataFrame({'clean':df2}) \n",
    "df_clean.head()"
   ]
  },
  {
   "cell_type": "code",
   "execution_count": 9,
   "id": "d3fb29f7",
   "metadata": {
    "execution": {
     "iopub.execute_input": "2023-06-20T17:38:23.688591Z",
     "iopub.status.busy": "2023-06-20T17:38:23.688146Z",
     "iopub.status.idle": "2023-06-20T17:38:23.696655Z",
     "shell.execute_reply": "2023-06-20T17:38:23.695361Z"
    },
    "papermill": {
     "duration": 0.024818,
     "end_time": "2023-06-20T17:38:23.699530",
     "exception": false,
     "start_time": "2023-06-20T17:38:23.674712",
     "status": "completed"
    },
    "tags": []
   },
   "outputs": [
    {
     "data": {
      "text/plain": [
       "(11914, 1)"
      ]
     },
     "execution_count": 9,
     "metadata": {},
     "output_type": "execute_result"
    }
   ],
   "source": [
    "df_clean.shape"
   ]
  },
  {
   "cell_type": "code",
   "execution_count": 10,
   "id": "d7d91efd",
   "metadata": {
    "execution": {
     "iopub.execute_input": "2023-06-20T17:38:23.729346Z",
     "iopub.status.busy": "2023-06-20T17:38:23.726852Z",
     "iopub.status.idle": "2023-06-20T17:38:23.757771Z",
     "shell.execute_reply": "2023-06-20T17:38:23.756214Z"
    },
    "papermill": {
     "duration": 0.048615,
     "end_time": "2023-06-20T17:38:23.761508",
     "exception": false,
     "start_time": "2023-06-20T17:38:23.712893",
     "status": "completed"
    },
    "tags": []
   },
   "outputs": [
    {
     "data": {
      "text/plain": [
       "[['premium unleaded (required)',\n",
       "  'MANUAL',\n",
       "  'rear wheel drive',\n",
       "  'Factory Tuner',\n",
       "  'Luxury',\n",
       "  'High-Performance',\n",
       "  'Compact',\n",
       "  'Coupe',\n",
       "  'BMW 1 Series M'],\n",
       " ['premium unleaded (required)',\n",
       "  'MANUAL',\n",
       "  'rear wheel drive',\n",
       "  'Luxury',\n",
       "  'Performance',\n",
       "  'Compact',\n",
       "  'Convertible',\n",
       "  'BMW 1 Series']]"
      ]
     },
     "execution_count": 10,
     "metadata": {},
     "output_type": "execute_result"
    }
   ],
   "source": [
    "#List of list data corpus for Gensim modelling\n",
    "sent = [row.split(',') for row in df_clean['clean']]\n",
    "sent[:2]"
   ]
  },
  {
   "cell_type": "markdown",
   "id": "94c40b7d",
   "metadata": {
    "papermill": {
     "duration": 0.011857,
     "end_time": "2023-06-20T17:38:23.786291",
     "exception": false,
     "start_time": "2023-06-20T17:38:23.774434",
     "status": "completed"
    },
    "tags": []
   },
   "source": [
    "## Model Training"
   ]
  },
  {
   "cell_type": "markdown",
   "id": "ff3ca3c5",
   "metadata": {
    "papermill": {
     "duration": 0.012721,
     "end_time": "2023-06-20T17:38:23.811459",
     "exception": false,
     "start_time": "2023-06-20T17:38:23.798738",
     "status": "completed"
    },
    "tags": []
   },
   "source": [
    "Word Embedding is implemented using Word2Vec technique. It uses two-layer neural network. Input for this is text and output is a set of vectors. Gensim library on the custom corpus is implemented using algorithms like CBOW(Continuous Bag of Words), SG(Skip Gram). Training model is created as below."
   ]
  },
  {
   "cell_type": "code",
   "execution_count": 11,
   "id": "855d8bc9",
   "metadata": {
    "execution": {
     "iopub.execute_input": "2023-06-20T17:38:23.839255Z",
     "iopub.status.busy": "2023-06-20T17:38:23.837750Z",
     "iopub.status.idle": "2023-06-20T17:38:24.306581Z",
     "shell.execute_reply": "2023-06-20T17:38:24.304951Z"
    },
    "papermill": {
     "duration": 0.485794,
     "end_time": "2023-06-20T17:38:24.309716",
     "exception": false,
     "start_time": "2023-06-20T17:38:23.823922",
     "status": "completed"
    },
    "tags": []
   },
   "outputs": [],
   "source": [
    "model = Word2Vec(sent,min_count =1,vector_size=50, workers = 3,window=3,sg=1)"
   ]
  },
  {
   "cell_type": "markdown",
   "id": "4f6672b2",
   "metadata": {
    "papermill": {
     "duration": 0.0119,
     "end_time": "2023-06-20T17:38:24.335698",
     "exception": false,
     "start_time": "2023-06-20T17:38:24.323798",
     "status": "completed"
    },
    "tags": []
   },
   "source": [
    "1. size: The number of dimensions of the embeddings and the default is 100.\n",
    "2. window: The maximum distance between a target word and words around the target word. The default window is 5.\n",
    "3. min_count: The minimum count of words to consider when training the model; words with occurrence less than this count will be ignored. The default for min_count is 5.\n",
    "4. workers: The number of partitions during training and the default workers is 3.\n",
    "5. sg: The training algorithm, either CBOW(0) or skip gram (1). The default training alogrithm is CBOW."
   ]
  },
  {
   "cell_type": "code",
   "execution_count": 12,
   "id": "36586ce1",
   "metadata": {
    "execution": {
     "iopub.execute_input": "2023-06-20T17:38:24.362207Z",
     "iopub.status.busy": "2023-06-20T17:38:24.361770Z",
     "iopub.status.idle": "2023-06-20T17:38:24.372436Z",
     "shell.execute_reply": "2023-06-20T17:38:24.370734Z"
    },
    "papermill": {
     "duration": 0.027745,
     "end_time": "2023-06-20T17:38:24.375709",
     "exception": false,
     "start_time": "2023-06-20T17:38:24.347964",
     "status": "completed"
    },
    "tags": []
   },
   "outputs": [
    {
     "data": {
      "text/plain": [
       "array([ 0.02502831,  0.12598681,  0.08280787, -0.09878854, -0.07040344,\n",
       "       -0.22827502,  0.00432529,  0.2873881 , -0.11326703, -0.07166937,\n",
       "        0.01355   , -0.00968716,  0.08243357, -0.02705853, -0.05206136,\n",
       "        0.1628918 ,  0.14276648,  0.2796947 , -0.09449822, -0.25770095,\n",
       "       -0.09563645, -0.02092389,  0.23033041,  0.05986825,  0.17628908,\n",
       "        0.0127508 , -0.06394614,  0.35839027, -0.01284829, -0.00500502,\n",
       "       -0.02917308,  0.0225873 ,  0.06831939,  0.00116526,  0.07883739,\n",
       "       -0.11637811,  0.16327074, -0.07241298,  0.01589195,  0.06132088,\n",
       "        0.08909579, -0.02413157, -0.21030034,  0.09350082,  0.3142694 ,\n",
       "        0.00854845, -0.01886506, -0.13280734, -0.01651406,  0.03528447],\n",
       "      dtype=float32)"
      ]
     },
     "execution_count": 12,
     "metadata": {},
     "output_type": "execute_result"
    }
   ],
   "source": [
    "model.wv['Toyota Camry']"
   ]
  },
  {
   "cell_type": "markdown",
   "id": "9de0d422",
   "metadata": {
    "papermill": {
     "duration": 0.012489,
     "end_time": "2023-06-20T17:38:24.400693",
     "exception": false,
     "start_time": "2023-06-20T17:38:24.388204",
     "status": "completed"
    },
    "tags": []
   },
   "source": [
    "## Compare Similarities\n"
   ]
  },
  {
   "cell_type": "markdown",
   "id": "4867252d",
   "metadata": {
    "papermill": {
     "duration": 0.012936,
     "end_time": "2023-06-20T17:38:24.427157",
     "exception": false,
     "start_time": "2023-06-20T17:38:24.414221",
     "status": "completed"
    },
    "tags": []
   },
   "source": [
    "### Euclidean Similarity"
   ]
  },
  {
   "cell_type": "code",
   "execution_count": 13,
   "id": "f887473c",
   "metadata": {
    "execution": {
     "iopub.execute_input": "2023-06-20T17:38:24.455645Z",
     "iopub.status.busy": "2023-06-20T17:38:24.455159Z",
     "iopub.status.idle": "2023-06-20T17:38:24.463876Z",
     "shell.execute_reply": "2023-06-20T17:38:24.462126Z"
    },
    "papermill": {
     "duration": 0.025657,
     "end_time": "2023-06-20T17:38:24.466692",
     "exception": false,
     "start_time": "2023-06-20T17:38:24.441035",
     "status": "completed"
    },
    "tags": []
   },
   "outputs": [
    {
     "name": "stdout",
     "output_type": "stream",
     "text": [
      "Similarity b/w Porsche 718 Cayman & Nissan Van 0.77489597\n",
      "Similarity b/w Porsche 718 Cayman & Mercedes-Benz SLK-Class 0.93039864\n"
     ]
    }
   ],
   "source": [
    "print('Similarity b/w Porsche 718 Cayman & Nissan Van',model.wv.similarity('Porsche 718 Cayman', 'Nissan Van'))\n",
    "print('Similarity b/w Porsche 718 Cayman & Mercedes-Benz SLK-Class',model.wv.similarity('Porsche 718 Cayman', 'Mercedes-Benz SLK-Class'))"
   ]
  },
  {
   "cell_type": "code",
   "execution_count": 14,
   "id": "c3b2439f",
   "metadata": {
    "execution": {
     "iopub.execute_input": "2023-06-20T17:38:24.495264Z",
     "iopub.status.busy": "2023-06-20T17:38:24.494835Z",
     "iopub.status.idle": "2023-06-20T17:38:24.511907Z",
     "shell.execute_reply": "2023-06-20T17:38:24.510169Z"
    },
    "papermill": {
     "duration": 0.036933,
     "end_time": "2023-06-20T17:38:24.517362",
     "exception": false,
     "start_time": "2023-06-20T17:38:24.480429",
     "status": "completed"
    },
    "tags": []
   },
   "outputs": [
    {
     "name": "stdout",
     "output_type": "stream",
     "text": [
      "Top 5 similar to Mercedes-Benz SLK-Class: \n",
      " [('BMW ALPINA B7', 0.9870179295539856), ('Lamborghini Aventador', 0.9868971109390259), ('Mercedes-Benz CLK-Class', 0.9863013625144958), ('Mercedes-Benz SLS AMG GT', 0.9856127500534058), ('Lamborghini Murcielago', 0.9855102300643921)]\n"
     ]
    }
   ],
   "source": [
    "print('Top 5 similar to Mercedes-Benz SLK-Class: \\n',model.wv.most_similar(positive=[\"Mercedes-Benz SLK-Class\"], topn = 5))"
   ]
  },
  {
   "cell_type": "code",
   "execution_count": 15,
   "id": "72f6a3e0",
   "metadata": {
    "execution": {
     "iopub.execute_input": "2023-06-20T17:38:24.576521Z",
     "iopub.status.busy": "2023-06-20T17:38:24.575700Z",
     "iopub.status.idle": "2023-06-20T17:38:24.593143Z",
     "shell.execute_reply": "2023-06-20T17:38:24.591298Z"
    },
    "papermill": {
     "duration": 0.055513,
     "end_time": "2023-06-20T17:38:24.601655",
     "exception": false,
     "start_time": "2023-06-20T17:38:24.546142",
     "status": "completed"
    },
    "tags": []
   },
   "outputs": [
    {
     "name": "stdout",
     "output_type": "stream",
     "text": [
      "Top 5 similar to Toyota Camry: \n",
      " [('Chevrolet Malibu', 0.9885684251785278), ('Oldsmobile Eighty-Eight Royale', 0.9875094294548035), ('Toyota Avalon', 0.9817401766777039), ('Dodge Dart', 0.9814093708992004), ('Mazda 6', 0.9799979329109192)]\n"
     ]
    }
   ],
   "source": [
    "print('Top 5 similar to Toyota Camry: \\n',model.wv.most_similar(['Toyota Camry'], topn = 5))"
   ]
  },
  {
   "cell_type": "markdown",
   "id": "8070c138",
   "metadata": {
    "papermill": {
     "duration": 0.025909,
     "end_time": "2023-06-20T17:38:24.654858",
     "exception": false,
     "start_time": "2023-06-20T17:38:24.628949",
     "status": "completed"
    },
    "tags": []
   },
   "source": [
    "#### Cosine Similarity"
   ]
  },
  {
   "cell_type": "markdown",
   "id": "5618affe",
   "metadata": {
    "papermill": {
     "duration": 0.023188,
     "end_time": "2023-06-20T17:38:24.706433",
     "exception": false,
     "start_time": "2023-06-20T17:38:24.683245",
     "status": "completed"
    },
    "tags": []
   },
   "source": [
    "[Ref 1] Euclidian similarity cannot work well for the high-dimensional word vectors, This is because Euclidian similarity will increase the number of dimensions increases even if the word embedding stands for different meanings. Alternatively, we can use cosine similarity to measure the similarity between two vectors.  Mathematically, it measures the cosine of the angle between two vectors projected in a multi-dimensional space. Therefore, the cosine similarity captures the angle of the word vectors and not the magnitude. Under cosine similarity, no similarity is expressed as a 90-degree angle while the total similarity of 1 is at 0 degree angle."
   ]
  },
  {
   "cell_type": "code",
   "execution_count": 16,
   "id": "553fc05e",
   "metadata": {
    "execution": {
     "iopub.execute_input": "2023-06-20T17:38:24.733537Z",
     "iopub.status.busy": "2023-06-20T17:38:24.733117Z",
     "iopub.status.idle": "2023-06-20T17:38:24.744810Z",
     "shell.execute_reply": "2023-06-20T17:38:24.743415Z"
    },
    "papermill": {
     "duration": 0.028475,
     "end_time": "2023-06-20T17:38:24.747469",
     "exception": false,
     "start_time": "2023-06-20T17:38:24.718994",
     "status": "completed"
    },
    "tags": []
   },
   "outputs": [],
   "source": [
    "def cosine_distance(model, word, target_list, num):\n",
    "    cosine_dict = {}\n",
    "    word_list = []\n",
    "    a = model.wv[word]\n",
    "    for item in target_list:\n",
    "        if item != word:\n",
    "            b = model.wv[item]\n",
    "            cos_sim = dot(a,b)/(norm(a)*norm(b))\n",
    "            cosine_dict[item] = cos_sim\n",
    "    dist_sort = sorted(cosine_dict.items(), key = lambda dist: dist[1], reverse = True)\n",
    "    for item in dist_sort:\n",
    "        word_list.append((item[0], item[1]))\n",
    "    return word_list[0:num]"
   ]
  },
  {
   "cell_type": "code",
   "execution_count": 17,
   "id": "67571302",
   "metadata": {
    "execution": {
     "iopub.execute_input": "2023-06-20T17:38:24.776785Z",
     "iopub.status.busy": "2023-06-20T17:38:24.775744Z",
     "iopub.status.idle": "2023-06-20T17:38:24.809928Z",
     "shell.execute_reply": "2023-06-20T17:38:24.808675Z"
    },
    "papermill": {
     "duration": 0.051776,
     "end_time": "2023-06-20T17:38:24.813026",
     "exception": false,
     "start_time": "2023-06-20T17:38:24.761250",
     "status": "completed"
    },
    "tags": []
   },
   "outputs": [
    {
     "data": {
      "text/plain": [
       "[('BMW ALPINA B7', 0.9870179),\n",
       " ('Lamborghini Aventador', 0.98689705),\n",
       " ('Mercedes-Benz CLK-Class', 0.98630136),\n",
       " ('Mercedes-Benz SLS AMG GT', 0.9856128),\n",
       " ('Lamborghini Murcielago', 0.98551023)]"
      ]
     },
     "execution_count": 17,
     "metadata": {},
     "output_type": "execute_result"
    }
   ],
   "source": [
    "Maker_Model = list(df.Maker_Model.unique())\n",
    "cosine_distance(model,'Mercedes-Benz SLK-Class', Maker_Model, 5)"
   ]
  },
  {
   "cell_type": "markdown",
   "id": "844048ff",
   "metadata": {
    "papermill": {
     "duration": 0.012363,
     "end_time": "2023-06-20T17:38:24.838701",
     "exception": false,
     "start_time": "2023-06-20T17:38:24.826338",
     "status": "completed"
    },
    "tags": []
   },
   "source": [
    "## T-SNE Plot\n",
    "[Ref 1] T-SNE is an useful tool to visualize high-dimensional data by reducing dimensional space while keeping relative pairwise distance between points. It can be said that t-SNE looking for a new data representation where the neighborhood relations are preserved.  T-SNE is an useful tool to visualize high-dimensional data by reducing dimensional space while keeping relative pairwise distance between points. It can be said that t-SNE looking for a new data representation where the neighborhood relations are preserved. "
   ]
  },
  {
   "cell_type": "code",
   "execution_count": 18,
   "id": "fc423325",
   "metadata": {
    "execution": {
     "iopub.execute_input": "2023-06-20T17:38:24.868263Z",
     "iopub.status.busy": "2023-06-20T17:38:24.867432Z",
     "iopub.status.idle": "2023-06-20T17:38:24.881920Z",
     "shell.execute_reply": "2023-06-20T17:38:24.880615Z"
    },
    "papermill": {
     "duration": 0.032311,
     "end_time": "2023-06-20T17:38:24.885032",
     "exception": false,
     "start_time": "2023-06-20T17:38:24.852721",
     "status": "completed"
    },
    "tags": []
   },
   "outputs": [],
   "source": [
    "def display_closestwowords_tsnescatterplot(model, word,size):\n",
    "    arr = np.empty((0, size), dtype = 'f')\n",
    "    word_labels = [word]\n",
    "    \n",
    "    close_words = model.wv.similar_by_word(word)\n",
    "    \n",
    "    arr = np.append(arr, np.array([model.wv[word]]), axis = 0)\n",
    "    for wrd_score in close_words:\n",
    "        wrd_vector = model.wv[wrd_score[0]]\n",
    "        word_labels.append(wrd_score[0])\n",
    "        arr = np.append(arr, np.array([wrd_vector]), axis = 0)\n",
    "    \n",
    "    tsne = TSNE(n_components = 2, random_state = 0)\n",
    "    np.set_printoptions(suppress = True)\n",
    "    Y = tsne.fit_transform(arr)\n",
    "    \n",
    "    x_coords = Y[:, 0]\n",
    "    y_coords = Y[:, 1]\n",
    "    plt.scatter(x_coords, y_coords)\n",
    "    \n",
    "    for label, x, y in zip(word_labels, x_coords, y_coords):\n",
    "        plt.annotate(label, xy = (x, y), xytext = (0,0), textcoords = 'offset points')\n",
    "    plt.xlim(x_coords.min()+0.00005, x_coords.max()+0.00005)\n",
    "    plt.ylim(y_coords.min()+0.00005, y_coords.max()+0.00005)\n",
    "    plt.show()  \n",
    "    \n",
    "    "
   ]
  },
  {
   "cell_type": "code",
   "execution_count": 19,
   "id": "309605d3",
   "metadata": {
    "execution": {
     "iopub.execute_input": "2023-06-20T17:38:24.912954Z",
     "iopub.status.busy": "2023-06-20T17:38:24.912532Z",
     "iopub.status.idle": "2023-06-20T17:38:25.240965Z",
     "shell.execute_reply": "2023-06-20T17:38:25.239461Z"
    },
    "papermill": {
     "duration": 0.345907,
     "end_time": "2023-06-20T17:38:25.243926",
     "exception": false,
     "start_time": "2023-06-20T17:38:24.898019",
     "status": "completed"
    },
    "tags": []
   },
   "outputs": [
    {
     "data": {
      "application/vnd.jupyter.widget-view+json": {
       "model_id": "8c7d94d812d84be487ffc781230521bb",
       "version_major": 2,
       "version_minor": 0
      },
      "text/plain": [
       "Canvas(toolbar=Toolbar(toolitems=[('Home', 'Reset original view', 'home', 'home'), ('Back', 'Back to previous …"
      ]
     },
     "metadata": {},
     "output_type": "display_data"
    }
   ],
   "source": [
    "%matplotlib widget\n",
    "display_closestwowords_tsnescatterplot(model, 'Porsche 718 Cayman', 50)"
   ]
  }
 ],
 "metadata": {
  "kernelspec": {
   "display_name": "Python 3 (ipykernel)",
   "language": "python",
   "name": "python3"
  },
  "language_info": {
   "codemirror_mode": {
    "name": "ipython",
    "version": 3
   },
   "file_extension": ".py",
   "mimetype": "text/x-python",
   "name": "python",
   "nbconvert_exporter": "python",
   "pygments_lexer": "ipython3",
   "version": "3.11.5"
  },
  "papermill": {
   "default_parameters": {},
   "duration": 35.037631,
   "end_time": "2023-06-20T17:38:28.566748",
   "environment_variables": {},
   "exception": null,
   "input_path": "__notebook__.ipynb",
   "output_path": "__notebook__.ipynb",
   "parameters": {},
   "start_time": "2023-06-20T17:37:53.529117",
   "version": "2.3.4"
  },
  "widgets": {
   "application/vnd.jupyter.widget-state+json": {
    "state": {
     "48f2f44c0b044ac3a79ac9935c126cb1": {
      "model_module": "@jupyter-widgets/base",
      "model_module_version": "1.2.0",
      "model_name": "LayoutModel",
      "state": {
       "_model_module": "@jupyter-widgets/base",
       "_model_module_version": "1.2.0",
       "_model_name": "LayoutModel",
       "_view_count": null,
       "_view_module": "@jupyter-widgets/base",
       "_view_module_version": "1.2.0",
       "_view_name": "LayoutView",
       "align_content": null,
       "align_items": null,
       "align_self": null,
       "border": null,
       "bottom": null,
       "display": null,
       "flex": null,
       "flex_flow": null,
       "grid_area": null,
       "grid_auto_columns": null,
       "grid_auto_flow": null,
       "grid_auto_rows": null,
       "grid_column": null,
       "grid_gap": null,
       "grid_row": null,
       "grid_template_areas": null,
       "grid_template_columns": null,
       "grid_template_rows": null,
       "height": null,
       "justify_content": null,
       "justify_items": null,
       "left": null,
       "margin": null,
       "max_height": null,
       "max_width": null,
       "min_height": null,
       "min_width": null,
       "object_fit": null,
       "object_position": null,
       "order": null,
       "overflow": null,
       "overflow_x": null,
       "overflow_y": null,
       "padding": null,
       "right": null,
       "top": null,
       "visibility": null,
       "width": null
      }
     },
     "4ee99816e6a842df94b4ae0ae631eeb9": {
      "model_module": "@jupyter-widgets/base",
      "model_module_version": "1.2.0",
      "model_name": "LayoutModel",
      "state": {
       "_model_module": "@jupyter-widgets/base",
       "_model_module_version": "1.2.0",
       "_model_name": "LayoutModel",
       "_view_count": null,
       "_view_module": "@jupyter-widgets/base",
       "_view_module_version": "1.2.0",
       "_view_name": "LayoutView",
       "align_content": null,
       "align_items": null,
       "align_self": null,
       "border": null,
       "bottom": null,
       "display": null,
       "flex": null,
       "flex_flow": null,
       "grid_area": null,
       "grid_auto_columns": null,
       "grid_auto_flow": null,
       "grid_auto_rows": null,
       "grid_column": null,
       "grid_gap": null,
       "grid_row": null,
       "grid_template_areas": null,
       "grid_template_columns": null,
       "grid_template_rows": null,
       "height": null,
       "justify_content": null,
       "justify_items": null,
       "left": null,
       "margin": null,
       "max_height": null,
       "max_width": null,
       "min_height": null,
       "min_width": null,
       "object_fit": null,
       "object_position": null,
       "order": null,
       "overflow": null,
       "overflow_x": null,
       "overflow_y": null,
       "padding": null,
       "right": null,
       "top": null,
       "visibility": null,
       "width": null
      }
     },
     "8c7d94d812d84be487ffc781230521bb": {
      "model_module": "jupyter-matplotlib",
      "model_module_version": "^0.9.0",
      "model_name": "MPLCanvasModel",
      "state": {
       "_cursor": "pointer",
       "_dom_classes": [],
       "_figure_label": "Figure",
       "_height": 0,
       "_image_mode": "full",
       "_message": "",
       "_model_module": "jupyter-matplotlib",
       "_model_module_version": "^0.9.0",
       "_model_name": "MPLCanvasModel",
       "_rubberband_height": 0,
       "_rubberband_width": 0,
       "_rubberband_x": 0,
       "_rubberband_y": 0,
       "_view_count": null,
       "_view_module": "jupyter-matplotlib",
       "_view_module_version": "^0.9.0",
       "_view_name": "MPLCanvasView",
       "_width": 0,
       "capture_scroll": false,
       "footer_visible": true,
       "header_visible": true,
       "layout": "IPY_MODEL_4ee99816e6a842df94b4ae0ae631eeb9",
       "resizable": true,
       "toolbar": "IPY_MODEL_b9752dc9d23043aab99d450ded95d1c1",
       "toolbar_position": "left",
       "toolbar_visible": true
      }
     },
     "b9752dc9d23043aab99d450ded95d1c1": {
      "model_module": "jupyter-matplotlib",
      "model_module_version": "^0.9.0",
      "model_name": "ToolbarModel",
      "state": {
       "_current_action": "",
       "_dom_classes": [],
       "_model_module": "jupyter-matplotlib",
       "_model_module_version": "^0.9.0",
       "_model_name": "ToolbarModel",
       "_view_count": null,
       "_view_module": "jupyter-matplotlib",
       "_view_module_version": "^0.9.0",
       "_view_name": "ToolbarView",
       "button_style": "",
       "collapsed": true,
       "layout": "IPY_MODEL_48f2f44c0b044ac3a79ac9935c126cb1",
       "orientation": "vertical",
       "toolitems": [
        [
         "Home",
         "Reset original view",
         "home",
         "home"
        ],
        [
         "Back",
         "Back to previous view",
         "arrow-left",
         "back"
        ],
        [
         "Forward",
         "Forward to next view",
         "arrow-right",
         "forward"
        ],
        [
         "Pan",
         "Left button pans, Right button zooms\nx/y fixes axis, CTRL fixes aspect",
         "arrows",
         "pan"
        ],
        [
         "Zoom",
         "Zoom to rectangle\nx/y fixes axis",
         "square-o",
         "zoom"
        ],
        [
         "Download",
         "Download plot",
         "floppy-o",
         "save_figure"
        ]
       ]
      }
     }
    },
    "version_major": 2,
    "version_minor": 0
   }
  }
 },
 "nbformat": 4,
 "nbformat_minor": 5
}
