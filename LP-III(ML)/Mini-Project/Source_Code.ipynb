{
 "cells": [
  {
   "cell_type": "code",
   "execution_count": 2,
   "metadata": {
    "_kg_hide-input": false,
    "execution": {
     "iopub.execute_input": "2022-11-10T19:27:17.560406Z",
     "iopub.status.busy": "2022-11-10T19:27:17.559655Z",
     "iopub.status.idle": "2022-11-10T19:27:24.169755Z",
     "shell.execute_reply": "2022-11-10T19:27:24.169010Z",
     "shell.execute_reply.started": "2022-11-10T19:25:37.628570Z"
    },
    "jupyter": {
     "outputs_hidden": false
    },
    "papermill": {
     "duration": 6.62824,
     "end_time": "2022-11-10T19:27:24.169881",
     "exception": false,
     "start_time": "2022-11-10T19:27:17.541641",
     "status": "completed"
    },
    "tags": []
   },
   "outputs": [],
   "source": [
    "import os\n",
    "import numpy as np\n",
    "\n",
    "import pandas as pd\n",
    "import matplotlib.pyplot as plt\n",
    "%matplotlib inline\n",
    "\n",
    "#Importing the Libraries\n",
    "%matplotlib inline\n",
    "import matplotlib. pyplot as plt\n",
    "from sklearn.preprocessing import MinMaxScaler\n",
    "from keras.layers import LSTM, Dense, Dropout\n",
    "from sklearn.model_selection import TimeSeriesSplit\n",
    "from sklearn.metrics import mean_squared_error, r2_score\n",
    "import matplotlib.dates as mandates\n",
    "from sklearn.preprocessing import MinMaxScaler\n",
    "from sklearn import linear_model\n",
    "from keras.models import Sequential\n",
    "from keras.layers import Dense\n",
    "from keras.callbacks import EarlyStopping\n",
    "from keras.models import load_model\n",
    "from keras.layers import LSTM\n",
    "from keras.utils import plot_model\n",
    "from keras.optimizers import Adam"
   ]
  },
  {
   "cell_type": "code",
   "execution_count": 6,
   "metadata": {
    "_kg_hide-input": false,
    "execution": {
     "iopub.execute_input": "2022-11-10T19:27:24.397803Z",
     "iopub.status.busy": "2022-11-10T19:27:24.397170Z",
     "iopub.status.idle": "2022-11-10T19:27:24.419578Z",
     "shell.execute_reply": "2022-11-10T19:27:24.420039Z",
     "shell.execute_reply.started": "2022-11-10T19:25:37.649303Z"
    },
    "jupyter": {
     "outputs_hidden": false
    },
    "papermill": {
     "duration": 0.049558,
     "end_time": "2022-11-10T19:27:24.420191",
     "exception": false,
     "start_time": "2022-11-10T19:27:24.370633",
     "status": "completed"
    },
    "tags": []
   },
   "outputs": [],
   "source": [
    "nRowsRead = 1000 \n",
    "df = pd.read_csv('Data/532746.BO.csv', delimiter=',', nrows = nRowsRead)\n",
    "df.dataframeName = '532746.BO.csv'\n",
    "nRow, nCol = df.shape"
   ]
  },
  {
   "cell_type": "code",
   "execution_count": 8,
   "metadata": {
    "execution": {
     "iopub.execute_input": "2022-11-10T19:27:24.454274Z",
     "iopub.status.busy": "2022-11-10T19:27:24.453522Z",
     "iopub.status.idle": "2022-11-10T19:27:24.471745Z",
     "shell.execute_reply": "2022-11-10T19:27:24.472196Z",
     "shell.execute_reply.started": "2022-11-10T19:25:37.685705Z"
    },
    "papermill": {
     "duration": 0.03705,
     "end_time": "2022-11-10T19:27:24.472336",
     "exception": false,
     "start_time": "2022-11-10T19:27:24.435286",
     "status": "completed"
    },
    "tags": []
   },
   "outputs": [
    {
     "data": {
      "text/html": [
       "<div>\n",
       "<style scoped>\n",
       "    .dataframe tbody tr th:only-of-type {\n",
       "        vertical-align: middle;\n",
       "    }\n",
       "\n",
       "    .dataframe tbody tr th {\n",
       "        vertical-align: top;\n",
       "    }\n",
       "\n",
       "    .dataframe thead th {\n",
       "        text-align: right;\n",
       "    }\n",
       "</style>\n",
       "<table border=\"1\" class=\"dataframe\">\n",
       "  <thead>\n",
       "    <tr style=\"text-align: right;\">\n",
       "      <th></th>\n",
       "      <th>Date</th>\n",
       "      <th>Open</th>\n",
       "      <th>High</th>\n",
       "      <th>Low</th>\n",
       "      <th>Close</th>\n",
       "      <th>Adj Close</th>\n",
       "      <th>Volume</th>\n",
       "    </tr>\n",
       "  </thead>\n",
       "  <tbody>\n",
       "    <tr>\n",
       "      <th>0</th>\n",
       "      <td>2006-06-12</td>\n",
       "      <td>130.000000</td>\n",
       "      <td>130.000000</td>\n",
       "      <td>92.419998</td>\n",
       "      <td>94.339996</td>\n",
       "      <td>94.339996</td>\n",
       "      <td>8097280</td>\n",
       "    </tr>\n",
       "    <tr>\n",
       "      <th>1</th>\n",
       "      <td>2006-06-13</td>\n",
       "      <td>93.059998</td>\n",
       "      <td>94.940002</td>\n",
       "      <td>77.120003</td>\n",
       "      <td>78.540001</td>\n",
       "      <td>78.540001</td>\n",
       "      <td>7475940</td>\n",
       "    </tr>\n",
       "    <tr>\n",
       "      <th>2</th>\n",
       "      <td>2006-06-14</td>\n",
       "      <td>80.000000</td>\n",
       "      <td>88.580002</td>\n",
       "      <td>74.209999</td>\n",
       "      <td>82.029999</td>\n",
       "      <td>82.029999</td>\n",
       "      <td>6582600</td>\n",
       "    </tr>\n",
       "    <tr>\n",
       "      <th>3</th>\n",
       "      <td>2006-06-19</td>\n",
       "      <td>88.019997</td>\n",
       "      <td>94.720001</td>\n",
       "      <td>82.269997</td>\n",
       "      <td>92.680000</td>\n",
       "      <td>92.680000</td>\n",
       "      <td>6085285</td>\n",
       "    </tr>\n",
       "    <tr>\n",
       "      <th>4</th>\n",
       "      <td>2006-06-20</td>\n",
       "      <td>89.940002</td>\n",
       "      <td>92.400002</td>\n",
       "      <td>86.800003</td>\n",
       "      <td>89.839996</td>\n",
       "      <td>89.839996</td>\n",
       "      <td>3506755</td>\n",
       "    </tr>\n",
       "  </tbody>\n",
       "</table>\n",
       "</div>"
      ],
      "text/plain": [
       "         Date        Open        High        Low      Close  Adj Close  \\\n",
       "0  2006-06-12  130.000000  130.000000  92.419998  94.339996  94.339996   \n",
       "1  2006-06-13   93.059998   94.940002  77.120003  78.540001  78.540001   \n",
       "2  2006-06-14   80.000000   88.580002  74.209999  82.029999  82.029999   \n",
       "3  2006-06-19   88.019997   94.720001  82.269997  92.680000  92.680000   \n",
       "4  2006-06-20   89.940002   92.400002  86.800003  89.839996  89.839996   \n",
       "\n",
       "    Volume  \n",
       "0  8097280  \n",
       "1  7475940  \n",
       "2  6582600  \n",
       "3  6085285  \n",
       "4  3506755  "
      ]
     },
     "execution_count": 8,
     "metadata": {},
     "output_type": "execute_result"
    }
   ],
   "source": [
    "df.head()"
   ]
  },
  {
   "cell_type": "code",
   "execution_count": 9,
   "metadata": {
    "execution": {
     "iopub.execute_input": "2022-11-10T19:27:24.538776Z",
     "iopub.status.busy": "2022-11-10T19:27:24.537976Z",
     "iopub.status.idle": "2022-11-10T19:27:24.545053Z",
     "shell.execute_reply": "2022-11-10T19:27:24.545488Z",
     "shell.execute_reply.started": "2022-11-10T19:25:37.706405Z"
    },
    "papermill": {
     "duration": 0.026109,
     "end_time": "2022-11-10T19:27:24.545625",
     "exception": false,
     "start_time": "2022-11-10T19:27:24.519516",
     "status": "completed"
    },
    "tags": []
   },
   "outputs": [
    {
     "data": {
      "text/plain": [
       "Date         0\n",
       "Open         0\n",
       "High         0\n",
       "Low          0\n",
       "Close        0\n",
       "Adj Close    0\n",
       "Volume       0\n",
       "dtype: int64"
      ]
     },
     "execution_count": 9,
     "metadata": {},
     "output_type": "execute_result"
    }
   ],
   "source": [
    "df.isnull().sum()"
   ]
  },
  {
   "cell_type": "code",
   "execution_count": 10,
   "metadata": {
    "execution": {
     "iopub.execute_input": "2022-11-10T19:27:24.581196Z",
     "iopub.status.busy": "2022-11-10T19:27:24.580477Z",
     "iopub.status.idle": "2022-11-10T19:27:24.776924Z",
     "shell.execute_reply": "2022-11-10T19:27:24.777349Z",
     "shell.execute_reply.started": "2022-11-10T19:25:37.729040Z"
    },
    "papermill": {
     "duration": 0.215728,
     "end_time": "2022-11-10T19:27:24.777508",
     "exception": false,
     "start_time": "2022-11-10T19:27:24.561780",
     "status": "completed"
    },
    "tags": []
   },
   "outputs": [
    {
     "data": {
      "text/plain": [
       "<Axes: >"
      ]
     },
     "execution_count": 10,
     "metadata": {},
     "output_type": "execute_result"
    },
    {
     "data": {
      "image/png": "[encoded data removed]",
      "text/plain": [
       "<Figure size 640x480 with 1 Axes>"
      ]
     },
     "metadata": {},
     "output_type": "display_data"
    }
   ],
   "source": [
    "df[\"Adj Close\"].plot()"
   ]
  },
  {
   "cell_type": "code",
   "execution_count": 11,
   "metadata": {
    "execution": {
     "iopub.execute_input": "2022-11-10T19:27:24.815258Z",
     "iopub.status.busy": "2022-11-10T19:27:24.814744Z",
     "iopub.status.idle": "2022-11-10T19:27:24.819752Z",
     "shell.execute_reply": "2022-11-10T19:27:24.820252Z",
     "shell.execute_reply.started": "2022-11-10T19:25:37.911180Z"
    },
    "papermill": {
     "duration": 0.025517,
     "end_time": "2022-11-10T19:27:24.820406",
     "exception": false,
     "start_time": "2022-11-10T19:27:24.794889",
     "status": "completed"
    },
    "tags": []
   },
   "outputs": [],
   "source": [
    "#Set Target Variable\n",
    "output_var = pd.DataFrame(df[\"Adj Close\"])\n",
    "#Selecting the Features\n",
    "features = [\"Open\", 'High', \"Low\", \"Volume\"]"
   ]
  },
  {
   "cell_type": "code",
   "execution_count": 12,
   "metadata": {
    "execution": {
     "iopub.execute_input": "2022-11-10T19:27:24.857177Z",
     "iopub.status.busy": "2022-11-10T19:27:24.856324Z",
     "iopub.status.idle": "2022-11-10T19:27:24.874137Z",
     "shell.execute_reply": "2022-11-10T19:27:24.874605Z",
     "shell.execute_reply.started": "2022-11-10T19:25:37.922340Z"
    },
    "papermill": {
     "duration": 0.037627,
     "end_time": "2022-11-10T19:27:24.874833",
     "exception": false,
     "start_time": "2022-11-10T19:27:24.837206",
     "status": "completed"
    },
    "tags": []
   },
   "outputs": [
    {
     "data": {
      "text/html": [
       "<div>\n",
       "<style scoped>\n",
       "    .dataframe tbody tr th:only-of-type {\n",
       "        vertical-align: middle;\n",
       "    }\n",
       "\n",
       "    .dataframe tbody tr th {\n",
       "        vertical-align: top;\n",
       "    }\n",
       "\n",
       "    .dataframe thead th {\n",
       "        text-align: right;\n",
       "    }\n",
       "</style>\n",
       "<table border=\"1\" class=\"dataframe\">\n",
       "  <thead>\n",
       "    <tr style=\"text-align: right;\">\n",
       "      <th></th>\n",
       "      <th>Open</th>\n",
       "      <th>High</th>\n",
       "      <th>Low</th>\n",
       "      <th>Volume</th>\n",
       "    </tr>\n",
       "  </thead>\n",
       "  <tbody>\n",
       "    <tr>\n",
       "      <th>0</th>\n",
       "      <td>0.589935</td>\n",
       "      <td>0.551098</td>\n",
       "      <td>0.414586</td>\n",
       "      <td>0.644073</td>\n",
       "    </tr>\n",
       "    <tr>\n",
       "      <th>1</th>\n",
       "      <td>0.402717</td>\n",
       "      <td>0.383668</td>\n",
       "      <td>0.334313</td>\n",
       "      <td>0.594650</td>\n",
       "    </tr>\n",
       "    <tr>\n",
       "      <th>2</th>\n",
       "      <td>0.336526</td>\n",
       "      <td>0.353295</td>\n",
       "      <td>0.319045</td>\n",
       "      <td>0.523593</td>\n",
       "    </tr>\n",
       "    <tr>\n",
       "      <th>3</th>\n",
       "      <td>0.377173</td>\n",
       "      <td>0.382617</td>\n",
       "      <td>0.361333</td>\n",
       "      <td>0.484035</td>\n",
       "    </tr>\n",
       "    <tr>\n",
       "      <th>4</th>\n",
       "      <td>0.386904</td>\n",
       "      <td>0.371538</td>\n",
       "      <td>0.385100</td>\n",
       "      <td>0.278934</td>\n",
       "    </tr>\n",
       "  </tbody>\n",
       "</table>\n",
       "</div>"
      ],
      "text/plain": [
       "       Open      High       Low    Volume\n",
       "0  0.589935  0.551098  0.414586  0.644073\n",
       "1  0.402717  0.383668  0.334313  0.594650\n",
       "2  0.336526  0.353295  0.319045  0.523593\n",
       "3  0.377173  0.382617  0.361333  0.484035\n",
       "4  0.386904  0.371538  0.385100  0.278934"
      ]
     },
     "execution_count": 12,
     "metadata": {},
     "output_type": "execute_result"
    }
   ],
   "source": [
    "#normalising dataset\n",
    "from sklearn.preprocessing import MinMaxScaler\n",
    "scaler = MinMaxScaler()\n",
    "feature_transform = scaler.fit_transform(df[features])\n",
    "feature_transform= pd.DataFrame(columns=features, data=feature_transform, index=df.index)\n",
    "feature_transform.head()"
   ]
  },
  {
   "cell_type": "code",
   "execution_count": 13,
   "metadata": {
    "execution": {
     "iopub.execute_input": "2022-11-10T19:27:24.912735Z",
     "iopub.status.busy": "2022-11-10T19:27:24.912182Z",
     "iopub.status.idle": "2022-11-10T19:27:24.921392Z",
     "shell.execute_reply": "2022-11-10T19:27:24.921849Z",
     "shell.execute_reply.started": "2022-11-10T19:25:37.950425Z"
    },
    "papermill": {
     "duration": 0.029263,
     "end_time": "2022-11-10T19:27:24.921980",
     "exception": false,
     "start_time": "2022-11-10T19:27:24.892717",
     "status": "completed"
    },
    "tags": []
   },
   "outputs": [],
   "source": [
    "from sklearn.model_selection import TimeSeriesSplit\n",
    "timesplit= TimeSeriesSplit(n_splits=10)\n",
    "for train_index, test_index in timesplit.split(feature_transform):\n",
    "        X_train, X_test = feature_transform[:len(train_index)], feature_transform[len(train_index): (len(train_index)+len(test_index))]\n",
    "        y_train, y_test = output_var[:len(train_index)].values.ravel(), output_var[len(train_index): (len(train_index)+len(test_index))].values.ravel()"
   ]
  },
  {
   "cell_type": "code",
   "execution_count": 14,
   "metadata": {
    "execution": {
     "iopub.execute_input": "2022-11-10T19:27:24.960221Z",
     "iopub.status.busy": "2022-11-10T19:27:24.959698Z",
     "iopub.status.idle": "2022-11-10T19:27:24.964556Z",
     "shell.execute_reply": "2022-11-10T19:27:24.965016Z",
     "shell.execute_reply.started": "2022-11-10T19:25:37.970261Z"
    },
    "papermill": {
     "duration": 0.025629,
     "end_time": "2022-11-10T19:27:24.965150",
     "exception": false,
     "start_time": "2022-11-10T19:27:24.939521",
     "status": "completed"
    },
    "tags": []
   },
   "outputs": [],
   "source": [
    "#Process the data for LSTM\n",
    "trainX =np.array(X_train)\n",
    "testX =np.array(X_test)\n",
    "X_train = trainX.reshape(X_train.shape[0], 1, X_train.shape[1])\n",
    "X_test = testX.reshape(X_test.shape[0], 1, X_test.shape[1])"
   ]
  },
  {
   "cell_type": "code",
   "execution_count": 15,
   "metadata": {
    "execution": {
     "iopub.execute_input": "2022-11-10T19:27:25.002600Z",
     "iopub.status.busy": "2022-11-10T19:27:25.002066Z",
     "iopub.status.idle": "2022-11-10T19:27:25.809013Z",
     "shell.execute_reply": "2022-11-10T19:27:25.809470Z",
     "shell.execute_reply.started": "2022-11-10T19:25:37.985912Z"
    },
    "papermill": {
     "duration": 0.827315,
     "end_time": "2022-11-10T19:27:25.809610",
     "exception": false,
     "start_time": "2022-11-10T19:27:24.982295",
     "status": "completed"
    },
    "tags": []
   },
   "outputs": [
    {
     "name": "stdout",
     "output_type": "stream",
     "text": [
      "You must install pydot (`pip install pydot`) and install graphviz (see instructions at https://graphviz.gitlab.io/download/) for plot_model to work.\n"
     ]
    }
   ],
   "source": [
    "#Building the LSTM Model\n",
    "lstm = Sequential()\n",
    "lstm.add(LSTM(32, input_shape=(1, trainX.shape[1]), activation=\"relu\", return_sequences=False))\n",
    "lstm.add(Dense(1))\n",
    "lstm.compile(loss=\"mean_squared_error\", optimizer=\"adam\")\n",
    "plot_model(lstm, show_shapes=True, show_layer_names=True)"
   ]
  },
  {
   "cell_type": "code",
   "execution_count": 16,
   "metadata": {
    "execution": {
     "iopub.execute_input": "2022-11-10T19:27:25.848891Z",
     "iopub.status.busy": "2022-11-10T19:27:25.848336Z",
     "iopub.status.idle": "2022-11-10T19:27:26.023433Z",
     "shell.execute_reply": "2022-11-10T19:27:26.022775Z",
     "shell.execute_reply.started": "2022-11-10T19:25:38.260605Z"
    },
    "papermill": {
     "duration": 0.195904,
     "end_time": "2022-11-10T19:27:26.023556",
     "exception": false,
     "start_time": "2022-11-10T19:27:25.827652",
     "status": "completed"
    },
    "tags": []
   },
   "outputs": [
    {
     "name": "stdout",
     "output_type": "stream",
     "text": [
      "You must install pydot (`pip install pydot`) and install graphviz (see instructions at https://graphviz.gitlab.io/download/) for plot_model to work.\n"
     ]
    }
   ],
   "source": [
    "#Building the LSTM Model\n",
    "lstm = Sequential()\n",
    "lstm.add(LSTM(32, input_shape=(1, trainX.shape[1]), activation=\"relu\", return_sequences=False))\n",
    "lstm.add(Dense(1))\n",
    "lstm.compile(loss=\"mean_squared_error\", optimizer=\"adam\")\n",
    "plot_model(lstm, show_shapes=True, show_layer_names=True)"
   ]
  },
  {
   "cell_type": "code",
   "execution_count": 17,
   "metadata": {
    "execution": {
     "iopub.execute_input": "2022-11-10T19:27:26.069596Z",
     "iopub.status.busy": "2022-11-10T19:27:26.068916Z",
     "iopub.status.idle": "2022-11-10T19:27:48.797560Z",
     "shell.execute_reply": "2022-11-10T19:27:48.797060Z",
     "shell.execute_reply.started": "2022-11-10T19:25:38.537282Z"
    },
    "papermill": {
     "duration": 22.751548,
     "end_time": "2022-11-10T19:27:48.797665",
     "exception": false,
     "start_time": "2022-11-10T19:27:26.046117",
     "status": "completed"
    },
    "tags": []
   },
   "outputs": [
    {
     "name": "stdout",
     "output_type": "stream",
     "text": [
      "Epoch 1/100\n",
      "114/114 [==============================] - 1s 1ms/step - loss: 9710.5352\n",
      "Epoch 2/100\n",
      "114/114 [==============================] - 0s 1ms/step - loss: 9525.8975\n",
      "Epoch 3/100\n",
      "114/114 [==============================] - 0s 1ms/step - loss: 9050.1963\n",
      "Epoch 4/100\n",
      "114/114 [==============================] - 0s 1ms/step - loss: 8162.9780\n",
      "Epoch 5/100\n",
      "114/114 [==============================] - 0s 1ms/step - loss: 6903.8652\n",
      "Epoch 6/100\n",
      "114/114 [==============================] - 0s 1ms/step - loss: 5447.9072\n",
      "Epoch 7/100\n",
      "114/114 [==============================] - 0s 1ms/step - loss: 4005.8320\n",
      "Epoch 8/100\n",
      "114/114 [==============================] - 0s 1ms/step - loss: 2742.8796\n",
      "Epoch 9/100\n",
      "114/114 [==============================] - 0s 1ms/step - loss: 1749.4761\n",
      "Epoch 10/100\n",
      "114/114 [==============================] - 0s 1ms/step - loss: 1044.5731\n",
      "Epoch 11/100\n",
      "114/114 [==============================] - 0s 1ms/step - loss: 593.9789\n",
      "Epoch 12/100\n",
      "114/114 [==============================] - 0s 1ms/step - loss: 335.0938\n",
      "Epoch 13/100\n",
      "114/114 [==============================] - 0s 1ms/step - loss: 201.1377\n",
      "Epoch 14/100\n",
      "114/114 [==============================] - 0s 1ms/step - loss: 137.8774\n",
      "Epoch 15/100\n",
      "114/114 [==============================] - 0s 1ms/step - loss: 109.5600\n",
      "Epoch 16/100\n",
      "114/114 [==============================] - 0s 1ms/step - loss: 96.4688\n",
      "Epoch 17/100\n",
      "114/114 [==============================] - 0s 1ms/step - loss: 89.2996\n",
      "Epoch 18/100\n",
      "114/114 [==============================] - 0s 1ms/step - loss: 84.2166\n",
      "Epoch 19/100\n",
      "114/114 [==============================] - 0s 1ms/step - loss: 79.8128\n",
      "Epoch 20/100\n",
      "114/114 [==============================] - 0s 1ms/step - loss: 75.6226\n",
      "Epoch 21/100\n",
      "114/114 [==============================] - 0s 1ms/step - loss: 71.5092\n",
      "Epoch 22/100\n",
      "114/114 [==============================] - 0s 1ms/step - loss: 67.4423\n",
      "Epoch 23/100\n",
      "114/114 [==============================] - 0s 1ms/step - loss: 63.4253\n",
      "Epoch 24/100\n",
      "114/114 [==============================] - 0s 1ms/step - loss: 59.4725\n",
      "Epoch 25/100\n",
      "114/114 [==============================] - 0s 1ms/step - loss: 55.6020\n",
      "Epoch 26/100\n",
      "114/114 [==============================] - 0s 1ms/step - loss: 51.8329\n",
      "Epoch 27/100\n",
      "114/114 [==============================] - 0s 1ms/step - loss: 48.1837\n",
      "Epoch 28/100\n",
      "114/114 [==============================] - 0s 1ms/step - loss: 44.6721\n",
      "Epoch 29/100\n",
      "114/114 [==============================] - 0s 1ms/step - loss: 41.3141\n",
      "Epoch 30/100\n",
      "114/114 [==============================] - 0s 1ms/step - loss: 38.1242\n",
      "Epoch 31/100\n",
      "114/114 [==============================] - 0s 1ms/step - loss: 35.1143\n",
      "Epoch 32/100\n",
      "114/114 [==============================] - 0s 1ms/step - loss: 32.2945\n",
      "Epoch 33/100\n",
      "114/114 [==============================] - 0s 1ms/step - loss: 29.6721\n",
      "Epoch 34/100\n",
      "114/114 [==============================] - 0s 1ms/step - loss: 27.2519\n",
      "Epoch 35/100\n",
      "114/114 [==============================] - 0s 1ms/step - loss: 25.0360\n",
      "Epoch 36/100\n",
      "114/114 [==============================] - 0s 1ms/step - loss: 23.0240\n",
      "Epoch 37/100\n",
      "114/114 [==============================] - 0s 1ms/step - loss: 21.2129\n",
      "Epoch 38/100\n",
      "114/114 [==============================] - 0s 1ms/step - loss: 19.5970\n",
      "Epoch 39/100\n",
      "114/114 [==============================] - 0s 1ms/step - loss: 18.1687\n",
      "Epoch 40/100\n",
      "114/114 [==============================] - 0s 1ms/step - loss: 16.9179\n",
      "Epoch 41/100\n",
      "114/114 [==============================] - 0s 1ms/step - loss: 15.8331\n",
      "Epoch 42/100\n",
      "114/114 [==============================] - 0s 1ms/step - loss: 14.9007\n",
      "Epoch 43/100\n",
      "114/114 [==============================] - 0s 1ms/step - loss: 14.1070\n",
      "Epoch 44/100\n",
      "114/114 [==============================] - 0s 1ms/step - loss: 13.4362\n",
      "Epoch 45/100\n",
      "114/114 [==============================] - 0s 1ms/step - loss: 12.8689\n",
      "Epoch 46/100\n",
      "114/114 [==============================] - 0s 1ms/step - loss: 12.3963\n",
      "Epoch 47/100\n",
      "114/114 [==============================] - 0s 1ms/step - loss: 12.0048\n",
      "Epoch 48/100\n",
      "114/114 [==============================] - 0s 1ms/step - loss: 11.6802\n",
      "Epoch 49/100\n",
      "114/114 [==============================] - 0s 1ms/step - loss: 11.4119\n",
      "Epoch 50/100\n",
      "114/114 [==============================] - 0s 1ms/step - loss: 11.1868\n",
      "Epoch 51/100\n",
      "114/114 [==============================] - 0s 1ms/step - loss: 10.9990\n",
      "Epoch 52/100\n",
      "114/114 [==============================] - 0s 1ms/step - loss: 10.8379\n",
      "Epoch 53/100\n",
      "114/114 [==============================] - 0s 1ms/step - loss: 10.6982\n",
      "Epoch 54/100\n",
      "114/114 [==============================] - 0s 1ms/step - loss: 10.5755\n",
      "Epoch 55/100\n",
      "114/114 [==============================] - 0s 1ms/step - loss: 10.4647\n",
      "Epoch 56/100\n",
      "114/114 [==============================] - 0s 1ms/step - loss: 10.3638\n",
      "Epoch 57/100\n",
      "114/114 [==============================] - 0s 1ms/step - loss: 10.2702\n",
      "Epoch 58/100\n",
      "114/114 [==============================] - 0s 1ms/step - loss: 10.1825\n",
      "Epoch 59/100\n",
      "114/114 [==============================] - 0s 1ms/step - loss: 10.0999\n",
      "Epoch 60/100\n",
      "114/114 [==============================] - 0s 1ms/step - loss: 10.0215\n",
      "Epoch 61/100\n",
      "114/114 [==============================] - 0s 1ms/step - loss: 9.9470\n",
      "Epoch 62/100\n",
      "114/114 [==============================] - 0s 1ms/step - loss: 9.8760\n",
      "Epoch 63/100\n",
      "114/114 [==============================] - 0s 1ms/step - loss: 9.8085\n",
      "Epoch 64/100\n",
      "114/114 [==============================] - 0s 1ms/step - loss: 9.7441\n",
      "Epoch 65/100\n",
      "114/114 [==============================] - 0s 1ms/step - loss: 9.6829\n",
      "Epoch 66/100\n",
      "114/114 [==============================] - 0s 1ms/step - loss: 9.6247\n",
      "Epoch 67/100\n",
      "114/114 [==============================] - 0s 1ms/step - loss: 9.5694\n",
      "Epoch 68/100\n",
      "114/114 [==============================] - 0s 1ms/step - loss: 9.5169\n",
      "Epoch 69/100\n",
      "114/114 [==============================] - 0s 1ms/step - loss: 9.4671\n",
      "Epoch 70/100\n",
      "114/114 [==============================] - 0s 1ms/step - loss: 9.4200\n",
      "Epoch 71/100\n",
      "114/114 [==============================] - 0s 1ms/step - loss: 9.3753\n",
      "Epoch 72/100\n",
      "114/114 [==============================] - 0s 1ms/step - loss: 9.3330\n",
      "Epoch 73/100\n",
      "114/114 [==============================] - 0s 1ms/step - loss: 9.2930\n",
      "Epoch 74/100\n",
      "114/114 [==============================] - 0s 1ms/step - loss: 9.2551\n",
      "Epoch 75/100\n",
      "114/114 [==============================] - 0s 1ms/step - loss: 9.2193\n",
      "Epoch 76/100\n",
      "114/114 [==============================] - 0s 1ms/step - loss: 9.1853\n",
      "Epoch 77/100\n",
      "114/114 [==============================] - 0s 1ms/step - loss: 9.1531\n",
      "Epoch 78/100\n",
      "114/114 [==============================] - 0s 1ms/step - loss: 9.1226\n",
      "Epoch 79/100\n",
      "114/114 [==============================] - 0s 1ms/step - loss: 9.0937\n",
      "Epoch 80/100\n",
      "114/114 [==============================] - 0s 1ms/step - loss: 9.0662\n",
      "Epoch 81/100\n",
      "114/114 [==============================] - 0s 1ms/step - loss: 9.0400\n",
      "Epoch 82/100\n",
      "114/114 [==============================] - 0s 1ms/step - loss: 9.0151\n",
      "Epoch 83/100\n",
      "114/114 [==============================] - 0s 1ms/step - loss: 8.9914\n",
      "Epoch 84/100\n",
      "114/114 [==============================] - 0s 1ms/step - loss: 8.9687\n",
      "Epoch 85/100\n",
      "114/114 [==============================] - 0s 1ms/step - loss: 8.9470\n",
      "Epoch 86/100\n",
      "114/114 [==============================] - 0s 1ms/step - loss: 8.9262\n",
      "Epoch 87/100\n",
      "114/114 [==============================] - 0s 1ms/step - loss: 8.9062\n",
      "Epoch 88/100\n",
      "114/114 [==============================] - 0s 1ms/step - loss: 8.8870\n",
      "Epoch 89/100\n",
      "114/114 [==============================] - 0s 1ms/step - loss: 8.8685\n",
      "Epoch 90/100\n",
      "114/114 [==============================] - 0s 1ms/step - loss: 8.8507\n",
      "Epoch 91/100\n",
      "114/114 [==============================] - 0s 1ms/step - loss: 8.8334\n",
      "Epoch 92/100\n",
      "114/114 [==============================] - 0s 1ms/step - loss: 8.8166\n",
      "Epoch 93/100\n",
      "114/114 [==============================] - 0s 1ms/step - loss: 8.8003\n",
      "Epoch 94/100\n",
      "114/114 [==============================] - 0s 1ms/step - loss: 8.7845\n",
      "Epoch 95/100\n",
      "114/114 [==============================] - 0s 1ms/step - loss: 8.7691\n",
      "Epoch 96/100\n",
      "114/114 [==============================] - 0s 1ms/step - loss: 8.7540\n",
      "Epoch 97/100\n",
      "114/114 [==============================] - 0s 1ms/step - loss: 8.7392\n",
      "Epoch 98/100\n"
     ]
    },
    {
     "name": "stdout",
     "output_type": "stream",
     "text": [
      "114/114 [==============================] - 0s 1ms/step - loss: 8.7248\n",
      "Epoch 99/100\n",
      "114/114 [==============================] - 0s 1ms/step - loss: 8.7106\n",
      "Epoch 100/100\n",
      "114/114 [==============================] - 0s 1ms/step - loss: 8.6967\n"
     ]
    }
   ],
   "source": [
    "#Model Training\n",
    "history=lstm.fit(X_train, y_train, epochs=100, batch_size=8, verbose=1, shuffle=False)"
   ]
  },
  {
   "cell_type": "code",
   "execution_count": 18,
   "metadata": {
    "execution": {
     "iopub.execute_input": "2022-11-10T19:27:49.135514Z",
     "iopub.status.busy": "2022-11-10T19:27:49.134864Z",
     "iopub.status.idle": "2022-11-10T19:27:49.226825Z",
     "shell.execute_reply": "2022-11-10T19:27:49.226233Z",
     "shell.execute_reply.started": "2022-11-10T19:26:00.699623Z"
    },
    "papermill": {
     "duration": 0.263733,
     "end_time": "2022-11-10T19:27:49.226945",
     "exception": false,
     "start_time": "2022-11-10T19:27:48.963212",
     "status": "completed"
    },
    "tags": []
   },
   "outputs": [
    {
     "name": "stdout",
     "output_type": "stream",
     "text": [
      "3/3 [==============================] - 0s 2ms/step\n"
     ]
    }
   ],
   "source": [
    "#LSTM Prediction\n",
    "y_pred= lstm.predict(X_test)"
   ]
  },
  {
   "cell_type": "code",
   "execution_count": 19,
   "metadata": {
    "execution": {
     "iopub.execute_input": "2022-11-10T19:27:49.567224Z",
     "iopub.status.busy": "2022-11-10T19:27:49.566604Z",
     "iopub.status.idle": "2022-11-10T19:27:49.710411Z",
     "shell.execute_reply": "2022-11-10T19:27:49.710825Z",
     "shell.execute_reply.started": "2022-11-10T19:26:00.830199Z"
    },
    "papermill": {
     "duration": 0.315839,
     "end_time": "2022-11-10T19:27:49.710951",
     "exception": false,
     "start_time": "2022-11-10T19:27:49.395112",
     "status": "completed"
    },
    "tags": []
   },
   "outputs": [
    {
     "data": {
      "image/png": "[encoded data removed]",
      "text/plain": [
       "<Figure size 640x480 with 1 Axes>"
      ]
     },
     "metadata": {},
     "output_type": "display_data"
    }
   ],
   "source": [
    "#Predicted vs True Adj Close Value – LSTM\n",
    "plt.plot(y_test, label=\"True Value\")\n",
    "plt.plot(y_pred, label=\"LSTM Value\")\n",
    "plt.title(\"Prediction by LSTM\")\n",
    "plt.xlabel(\"Time Scale\")\n",
    "plt.ylabel(\"Scaled USD\")\n",
    "plt.legend()\n",
    "plt.show()"
   ]
  },
  {
   "cell_type": "code",
   "execution_count": 20,
   "metadata": {
    "execution": {
     "iopub.execute_input": "2022-11-10T19:27:50.394528Z",
     "iopub.status.busy": "2022-11-10T19:27:50.392982Z",
     "iopub.status.idle": "2022-11-10T19:27:50.398694Z",
     "shell.execute_reply": "2022-11-10T19:27:50.399086Z",
     "shell.execute_reply.started": "2022-11-10T19:26:01.044488Z"
    },
    "papermill": {
     "duration": 0.182022,
     "end_time": "2022-11-10T19:27:50.399228",
     "exception": false,
     "start_time": "2022-11-10T19:27:50.217206",
     "status": "completed"
    },
    "tags": []
   },
   "outputs": [
    {
     "data": {
      "text/plain": [
       "0.8882963540151471"
      ]
     },
     "execution_count": 20,
     "metadata": {},
     "output_type": "execute_result"
    }
   ],
   "source": [
    "import sklearn\n",
    "sklearn.metrics.r2_score(y_test, y_pred)"
   ]
  }
 ],
 "metadata": {
  "kernelspec": {
   "display_name": "Python 3 (ipykernel)",
   "language": "python",
   "name": "python3"
  },
  "language_info": {
   "codemirror_mode": {
    "name": "ipython",
    "version": 3
   },
   "file_extension": ".py",
   "mimetype": "text/x-python",
   "name": "python",
   "nbconvert_exporter": "python",
   "pygments_lexer": "ipython3",
   "version": "3.10.9"
  },
  "papermill": {
   "duration": 38.164848,
   "end_time": "2022-11-10T19:27:51.693307",
   "environment_variables": {},
   "exception": null,
   "input_path": "__notebook__.ipynb",
   "output_path": "__notebook__.ipynb",
   "parameters": {},
   "start_time": "2022-11-10T19:27:13.528459",
   "version": "2.1.0"
  }
 },
 "nbformat": 4,
 "nbformat_minor": 4
}
