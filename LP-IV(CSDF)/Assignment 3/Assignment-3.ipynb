{
 "cells": [
  {
   "cell_type": "code",
   "execution_count": 6,
   "id": "82b31142",
   "metadata": {},
   "outputs": [
    {
     "name": "stdout",
     "output_type": "stream",
     "text": [
      "Device connected to current network: ['10-62-eb-18-f9-43']\n",
      "Unauthorized device detected: 10-62-eb-18-f9-43\n",
      "Scan completed.\n"
     ]
    }
   ],
   "source": [
    "import re\n",
    "import subprocess\n",
    "\n",
    "# Regular expression to match MAC address format\n",
    "mac_address_pattern = re.compile(r'^([0-9A-Fa-f]{2}[:-]){5}([0-9A-Fa-f]{2})$')\n",
    "\n",
    "def get_connected_devices():\n",
    "    try:\n",
    "        output = subprocess.check_output(['arp', '-a']).decode('utf-8')\n",
    "        devices = []\n",
    "        for line in output.splitlines():\n",
    "            if 'dynamic' in line.lower():\n",
    "                parts = line.split()\n",
    "                if len(parts) >= 2 and re.match(mac_address_pattern, parts[1]):\n",
    "                    devices.append(parts[1])\n",
    "        return devices\n",
    "    except subprocess.CalledProcessError:\n",
    "        return []\n",
    "\n",
    "def main():\n",
    "    connected_devices = get_connected_devices()\n",
    "    print(\"Device connected to current network: {}\".format(connected_devices))\n",
    "    \n",
    "    # List of authorized MAC addresses\n",
    "    authorized_devices = [\"AA:BB:CC:DD:EE:FF\", \"11:22:33:44:55:66\"]\n",
    "    \n",
    "    for device in connected_devices:\n",
    "        if device not in authorized_devices:\n",
    "            print(f\"Unauthorized device detected: {device}\")\n",
    "            # Here you could implement actions to prohibit access,\n",
    "            # like sending notifications, logging, or blocking the device.\n",
    "    \n",
    "    print(\"Scan completed.\")\n",
    "\n",
    "if __name__ == \"__main__\":\n",
    "    main()\n"
   ]
  }
 ],
 "metadata": {
  "kernelspec": {
   "display_name": "Python 3 (ipykernel)",
   "language": "python",
   "name": "python3"
  },
  "language_info": {
   "codemirror_mode": {
    "name": "ipython",
    "version": 3
   },
   "file_extension": ".py",
   "mimetype": "text/x-python",
   "name": "python",
   "nbconvert_exporter": "python",
   "pygments_lexer": "ipython3",
   "version": "3.10.9"
  }
 },
 "nbformat": 4,
 "nbformat_minor": 5
}
