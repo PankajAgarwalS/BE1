{
 "cells": [
  {
   "cell_type": "code",
   "execution_count": 4,
   "id": "5ce91aea",
   "metadata": {},
   "outputs": [
    {
     "name": "stdout",
     "output_type": "stream",
     "text": [
      "Collecting fast_mail_parser\n",
      "  Downloading fast_mail_parser-0.2.5-cp310-none-win_amd64.whl (337 kB)\n",
      "     ------------------------------------- 337.9/337.9 kB 10.6 MB/s eta 0:00:00\n",
      "Installing collected packages: fast_mail_parser\n",
      "Successfully installed fast_mail_parser-0.2.5\n"
     ]
    }
   ],
   "source": [
    "!pip install fast_mail_parser"
   ]
  },
  {
   "cell_type": "code",
   "execution_count": 31,
   "id": "cd98ab1f",
   "metadata": {},
   "outputs": [
    {
     "name": "stdout",
     "output_type": "stream",
     "text": [
      "Content Type: text/html; charset=\"UTF-8\"\n",
      "Subject: Your Epic Games Receipt F2308260329215284\n",
      "From: help@accts.epicgames.com\n",
      "To: sahil7naik57@gmail.com\n",
      "Received: by 2002:ac8:71d3:0:b0:410:a092:f486 with smtp id i19csp262150qtp; fri, 25 aug 2023 20:34:24 -0700 (pdt)\n"
     ]
    }
   ],
   "source": [
    "import datetime\n",
    "import json\n",
    "import eml_parser\n",
    "\n",
    "\n",
    "def json_serial(obj):\n",
    "    if isinstance(obj, datetime.datetime):\n",
    "        serial = obj.isoformat()\n",
    "        return serial\n",
    "\n",
    "# Make sure you use your own .eml file\n",
    "# In this case I've used 'game.eml' file\n",
    "\n",
    "with open('game.eml', 'rb') as fhdl:\n",
    "    raw_email = fhdl.read()\n",
    "\n",
    "ep = eml_parser.EmlParser()\n",
    "parsed_eml = ep.decode_email_bytes(raw_email)\n",
    "\n",
    "#print(parsed_eml)\n",
    "#print()\n",
    "#print(parsed_eml['header'])\n",
    "#print()\n",
    "print(\"Content Type: {}\".format(parsed_eml['body'][0]['content_header']['content-type'][0]))\n",
    "print(\"Subject: {}\".format(parsed_eml['header']['subject']))\n",
    "print(\"From: {}\".format(parsed_eml['header']['from']))\n",
    "print(\"To: {}\".format(parsed_eml['header']['to'][0]))\n",
    "print(\"Received: {}\".format(parsed_eml['header']['received'][0]['src']))\n",
    "\n",
    "#print(json.dumps(parsed_eml, default=json_serial))"
   ]
  }
 ],
 "metadata": {
  "kernelspec": {
   "display_name": "Python 3 (ipykernel)",
   "language": "python",
   "name": "python3"
  },
  "language_info": {
   "codemirror_mode": {
    "name": "ipython",
    "version": 3
   },
   "file_extension": ".py",
   "mimetype": "text/x-python",
   "name": "python",
   "nbconvert_exporter": "python",
   "pygments_lexer": "ipython3",
   "version": "3.10.9"
  }
 },
 "nbformat": 4,
 "nbformat_minor": 5
}
