{
 "cells": [
  {
   "cell_type": "code",
   "execution_count": 4,
   "id": "5ce91aea",
   "metadata": {},
   "outputs": [
    {
     "name": "stdout",
     "output_type": "stream",
     "text": [
      "Collecting fast_mail_parser\n",
      "  Downloading fast_mail_parser-0.2.5-cp310-none-win_amd64.whl (337 kB)\n",
      "     ------------------------------------- 337.9/337.9 kB 10.6 MB/s eta 0:00:00\n",
      "Installing collected packages: fast_mail_parser\n",
      "Successfully installed fast_mail_parser-0.2.5\n"
     ]
    }
   ],
   "source": [
    "!pip install fast_mail_parser"
   ]
  },
  {
   "cell_type": "code",
   "execution_count": 37,
   "id": "cd98ab1f",
   "metadata": {},
   "outputs": [
    {
     "name": "stdout",
     "output_type": "stream",
     "text": [
      "Content Type: text/html; charset=\"UTF-8\"\n",
      "Subject: Your Epic Games Receipt F2308260329215284\n",
      "From: help@accts.epicgames.com\n",
      "To: sahil7naik57@gmail.com\n",
      "Dated: Sat, 26 Aug 2023 03:34:23 +0000\n",
      "Received: by 2002:ac8:71d3:0:b0:410:a092:f486 with smtp id i19csp262150qtp; fri, 25 aug 2023 20:34:24 -0700 (pdt)\n",
      "Received IP: ['10.233.84.237', '023.08.25.20', '159.127.163.123', '2002:ac8:71d3:0:b0:410:a092:f486', '3.6.9.483', '3.6.9.0']\n",
      "Message ID: HP2v610000018a2fe8359f88214b434b5c38d8075@accts.epicgames.com\n",
      "MIME Version: 1.0\n",
      "x-google-smtp-source: AGHT+IEoeyQLx8cvvD5AnT7Ox2jeE8egzj8rejPBvhGXdaKUc6t7G3XExrN4WGHIzVgXvSHvduim\n"
     ]
    }
   ],
   "source": [
    "import datetime\n",
    "import json\n",
    "import eml_parser\n",
    "\n",
    "\n",
    "def json_serial(obj):\n",
    "    if isinstance(obj, datetime.datetime):\n",
    "        serial = obj.isoformat()\n",
    "        return serial\n",
    "\n",
    "# Make sure you use your own .eml file\n",
    "# In this case I've used 'game.eml' file\n",
    "\n",
    "with open('game.eml', 'rb') as fhdl:\n",
    "    raw_email = fhdl.read()\n",
    "\n",
    "ep = eml_parser.EmlParser()\n",
    "parsed_eml = ep.decode_email_bytes(raw_email)\n",
    "\n",
    "#print(parsed_eml)\n",
    "#print()\n",
    "#print(parsed_eml['header'])\n",
    "#print()\n",
    "print(\"Content Type: {}\".format(parsed_eml['body'][0]['content_header']['content-type'][0]))\n",
    "print(\"Subject: {}\".format(parsed_eml['header']['subject']))\n",
    "print(\"From: {}\".format(parsed_eml['header']['from']))\n",
    "print(\"To: {}\".format(parsed_eml['header']['to'][0]))\n",
    "print(\"Dated: {}\".format(parsed_eml['header']['header']['date'][0]))\n",
    "print(\"Received: {}\".format(parsed_eml['header']['received'][0]['src']))\n",
    "print(\"Received IP: {}\".format(parsed_eml['header']['received_ip']))\n",
    "print(\"Message ID: {}\".format(parsed_eml['header']['header']['message-id'][0]))\n",
    "print(\"MIME Version: {}\".format(parsed_eml['header']['header']['mime-version'][0]))\n",
    "print(\"x-google-smtp-source: {}\".format(parsed_eml['header']['header']['x-google-smtp-source'][0]))\n",
    "\n",
    "#print(json.dumps(parsed_eml, default=json_serial))"
   ]
  },
  {
   "cell_type": "code",
   "execution_count": 7,
   "id": "1662c5b6",
   "metadata": {},
   "outputs": [
    {
     "name": "stdout",
     "output_type": "stream",
     "text": [
      "dict_keys(['subject', 'from', 'to', 'delivered_to', 'date', 'received', 'received_email', 'received_domain', 'received_ip', 'received_foremail', 'header'])\n"
     ]
    }
   ],
   "source": [
    "print(parsed_eml['header'].keys())"
   ]
  },
  {
   "cell_type": "code",
   "execution_count": 36,
   "id": "34da0379",
   "metadata": {},
   "outputs": [
    {
     "name": "stdout",
     "output_type": "stream",
     "text": [
      "['Sat, 26 Aug 2023 03:34:23 +0000']\n"
     ]
    }
   ],
   "source": [
    "print(parsed_eml['header']['header']['date'])"
   ]
  },
  {
   "cell_type": "code",
   "execution_count": 26,
   "id": "68813b68",
   "metadata": {},
   "outputs": [
    {
     "name": "stdout",
     "output_type": "stream",
     "text": [
      "{'subject': 'Your Epic Games Receipt F2308260329215284', 'from': 'help@accts.epicgames.com', 'to': ['sahil7naik57@gmail.com'], 'delivered_to': ['sahil7naik57@gmail.com'], 'date': datetime.datetime(2023, 8, 26, 3, 34, 23, tzinfo=datetime.timezone.utc), 'received': [{'src': 'by 2002:ac8:71d3:0:b0:410:a092:f486 with smtp id i19csp262150qtp; fri, 25 aug 2023 20:34:24 -0700 (pdt)', 'by': ['2002:ac8:71d3:0:b0:410:a092:f486'], 'with': 'smtp id i19csp262150qtp', 'date': datetime.datetime(2023, 8, 25, 20, 34, 24, tzinfo=datetime.timezone(datetime.timedelta(days=-1, seconds=61200)))}, {'src': 'from mta123bb.pmx1.epsl1.com (mta123bb.pmx1.epsl1.com. [159.127.163.123]) by mx.google.com with esmtps id 9-20020a250209000000b00d10878b5282si1212665ybc.351.2023.08.25.20.34.23 for <sahil7naik57@gmail.com> (version=tls1_2 cipher=ecdhe-ecdsa-aes128-gcm-sha256 bits=128/128); fri, 25 aug 2023 20:34:24 -0700 (pdt)', 'from': ['mta123bb.pmx1.epsl1.com', '159.127.163.123'], 'by': ['mx.google.com'], 'with': 'esmtps id 9-20020a250209000000b00d10878b5282si1212665ybc.351.2023.08.25.20.34.23', 'for': ['sahil7naik57@gmail.com'], 'date': datetime.datetime(2023, 8, 25, 20, 34, 24, tzinfo=datetime.timezone(datetime.timedelta(days=-1, seconds=61200)))}, {'src': 'from [10.233.84.237] ([10.233.84.237:58792]) by pc1udsmtn2n12 (envelope-from <bounce@accts.epicgames.com>) (ecelerity 3.6.9.48312 r(core:3.6.9.0)) with ecstream id 10/8e-62310-fb279e46; sat, 26 aug 2023 03:34:23 +0000', 'from': ['10.233.84.237'], 'by': ['3.6.9.483', 'accts.epicgames.com', '3.6.9.0'], 'with': 'ecstream id 10/8e-62310-fb279e46', 'date': datetime.datetime(2023, 8, 26, 3, 34, 23, tzinfo=datetime.timezone.utc)}], 'received_email': ['bounce@accts.epicgames.com'], 'received_domain': ['mta123bb.pmx1.epsl1.com', 'mx.google.com'], 'received_ip': ['10.233.84.237', '023.08.25.20', '159.127.163.123', '2002:ac8:71d3:0:b0:410:a092:f486', '3.6.9.483', '3.6.9.0'], 'received_foremail': ['sahil7naik57@gmail.com'], 'header': {'dkim-signature': ['v=1; a=rsa-sha256; c=simple/simple; d=accts.epicgames.com;\\ts=ep1; t=1693020863;\\tbh=samGLM1V8cn7mno0ka6rI5tYhT8Ry3Y5tE9/lUqMeN8=;\\th=MIME-Version:Subject:From:To:Date:Content-Type;\\tb=vmMkWS6w3S5E89HvxPozOiNQ8mXtlGXF4FiSsgxUKE1HJmagsvoo5I2+XDnIqm+DE\\t hFh652H8pSD/bqVp5LiLyGEEIbrAqqR8ueHEEKVWr7ZoNfaTwIXqUIEOZy52UwFdY0\\t X+JKIupRGQI9Rj8slR5px0FTSyV5q3b6eU4NeTlc='], 'x-google-smtp-source': ['AGHT+IEoeyQLx8cvvD5AnT7Ox2jeE8egzj8rejPBvhGXdaKUc6t7G3XExrN4WGHIzVgXvSHvduim'], 'received': ['by 2002:ac8:71d3:0:b0:410:a092:f486 with SMTP id i19csp262150qtp;        Fri, 25 Aug 2023 20:34:24 -0700 (PDT)', 'from mta123bb.pmx1.epsl1.com (mta123bb.pmx1.epsl1.com. [159.127.163.123])        by mx.google.com with ESMTPS id 9-20020a250209000000b00d10878b5282si1212665ybc.351.2023.08.25.20.34.23        for <sahil7naik57@gmail.com>        (version=TLS1_2 cipher=ECDHE-ECDSA-AES128-GCM-SHA256 bits=128/128);        Fri, 25 Aug 2023 20:34:24 -0700 (PDT)', 'from [10.233.84.237] ([10.233.84.237:58792])\\tby pc1udsmtn2n12 (envelope-from <bounce@accts.epicgames.com>)\\t(ecelerity 3.6.9.48312 r(Core:3.6.9.0)) with ECSTREAM\\tid 10/8E-62310-FB279E46; Sat, 26 Aug 2023 03:34:23 +0000'], 'mime-version': ['1.0'], 'date': ['Sat, 26 Aug 2023 03:34:23 +0000'], 'arc-seal': ['i=1; a=rsa-sha256; t=1693020864; cv=none;        d=google.com; s=arc-20160816;        b=Vn6F/64mjZBFEYm66G3RTORaOR3gwcbF+FT3dhWpta0zXTJyDtmzQftSi76EY7iKvi         TONMlAX52YiEJH9hM6d8H7RB38FdQ1CJLovZDlidDYiXpzj7nuy0RrZodSCNADY3h4QI         LrvsCM4ZwU+BvpXGxwchHAjAw49KBjTNbk8y1Dk0wDsVP5ud1qaz0soZGlwbPUCLSMui         3mSyp6bxjxwE01hSl5GuOXIrfseA5upiB0X0P4IZXd1YoCNlIXl+NVvB4eCoUjlTre+R         nZ+XlgPhIggIsvAMSx4XXXQu1ky3Al7iDE0gHMh2wyEg8Mj4biMYvzWYPSnpnBFe+qol         JqLw=='], 'reply-to': ['\"help@accts.epicgames.com\" <help@accts.epicgames.com>'], 'message-id': ['HP2v610000018a2fe8359f88214b434b5c38d8075@accts.epicgames.com'], 'feedback-id': ['6fb05aeb-4a5f-4734-a5b7-fa2824ef77ea:61a7fbcf-9940-4c13-ad82-1cc8d60d33bf:email:epslh1'], 'arc-authentication-results': ['i=1; mx.google.com;       dkim=pass header.i=@accts.epicgames.com header.s=ep1 header.b=vmMkWS6w;       spf=pass (google.com: domain of bounce@accts.epicgames.com designates 159.127.163.123 as permitted sender) smtp.mailfrom=bounce@accts.epicgames.com;       dmarc=pass (p=REJECT sp=REJECT dis=NONE) header.from=accts.epicgames.com'], 'x-received': ['by 2002:a05:6902:351:b0:d77:8080:52e1 with SMTP id e17-20020a056902035100b00d77808052e1mr11857549ybs.3.1693020864128;        Fri, 25 Aug 2023 20:34:24 -0700 (PDT)'], 'delivered-to': ['sahil7naik57@gmail.com'], 'authentication-results': ['mx.google.com;       dkim=pass header.i=@accts.epicgames.com header.s=ep1 header.b=vmMkWS6w;       spf=pass (google.com: domain of bounce@accts.epicgames.com designates 159.127.163.123 as permitted sender) smtp.mailfrom=bounce@accts.epicgames.com;       dmarc=pass (p=REJECT sp=REJECT dis=NONE) header.from=accts.epicgames.com'], 'subject': ['Your Epic Games Receipt F2308260329215284'], 'content-type': ['multipart/alternative; boundary=\"-=Part.8a4b60.74f3681381026a4b.18a2fe83ce0.f12b0a25bc709d7a=-\"'], 'list-unsubscribe': ['<mailto:bounce-HP2v610000018a2fe8359f88214b434b5c38d8075@accts.epicgames.com?subject=list-unsubscribe>'], 'return-path': ['<bounce@accts.epicgames.com>', '<bounce@accts.epicgames.com>'], 'arc-message-signature': ['i=1; a=rsa-sha256; c=relaxed/relaxed; d=google.com; s=arc-20160816;        h=date:to:from:subject:reply-to:feedback-id:mime-version:message-id         :list-unsubscribe:dkim-signature;        bh=WzZki3PQArjwku7BBfn3zUeZ0jd2x8cXAWxLQyQmKwU=;        fh=ti/4zejqXuORZw9Q7p/r09zfS1wzy3gv9c82nKLjqpw=;        b=eoFnbOB1d4FEvxcBVeVSeAM1YM2SnQohGaqTIFdobtiOkEVd7MuU2aVrH6xeogMRfV         SVO1P6KylK+3O/qglXst4SxM9dqWS6qx8VJfA4aShbjayyYU+y0mbmDDMgTTKGIUlxud         mGgBa7/BLPfMrYS5Par2RPEnj3ml2YerQIX2i8kvuWjXAOLXeMpGhFXssxKNwu5952QZ         vnox1tOr/4MUay9VjpPm9t4dai5st95ZnvnjQPslBtd6+ZTvuE0BiLyZGTR6S6cpj8sl         R89ltcVtJdqa9yVv8P5y1yTidnneD+kM8eCakhxw6tyA88EyC7oToXAT1Z2ggdOC6Ls6         fsVg=='], 'received-spf': ['pass (google.com: domain of bounce@accts.epicgames.com designates 159.127.163.123 as permitted sender) client-ip=159.127.163.123;'], 'to': ['sahil7naik57@gmail.com'], 'from': ['Epic Games <help@accts.epicgames.com>'], 'x-nss': ['6fb05aeb-4a5f-4734-a5b7-fa2824ef77ea']}}\n"
     ]
    }
   ],
   "source": [
    "print(parsed_eml['header'])"
   ]
  },
  {
   "cell_type": "code",
   "execution_count": 17,
   "id": "20e74805",
   "metadata": {},
   "outputs": [
    {
     "name": "stdout",
     "output_type": "stream",
     "text": [
      "dict_keys(['dkim-signature', 'x-google-smtp-source', 'received', 'mime-version', 'date', 'arc-seal', 'reply-to', 'message-id', 'feedback-id', 'arc-authentication-results', 'x-received', 'delivered-to', 'authentication-results', 'subject', 'content-type', 'list-unsubscribe', 'return-path', 'arc-message-signature', 'received-spf', 'to', 'from', 'x-nss'])\n"
     ]
    }
   ],
   "source": [
    "print(parsed_eml['header']['header'].keys())"
   ]
  }
 ],
 "metadata": {
  "kernelspec": {
   "display_name": "Python 3 (ipykernel)",
   "language": "python",
   "name": "python3"
  },
  "language_info": {
   "codemirror_mode": {
    "name": "ipython",
    "version": 3
   },
   "file_extension": ".py",
   "mimetype": "text/x-python",
   "name": "python",
   "nbconvert_exporter": "python",
   "pygments_lexer": "ipython3",
   "version": "3.10.9"
  }
 },
 "nbformat": 4,
 "nbformat_minor": 5
}
